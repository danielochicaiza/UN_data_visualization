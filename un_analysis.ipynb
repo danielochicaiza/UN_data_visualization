{
 "cells": [
  {
   "cell_type": "code",
   "execution_count": 1,
   "metadata": {},
   "outputs": [
    {
     "name": "stderr",
     "output_type": "stream",
     "text": [
      "c:\\Users\\DANIEL\\.conda\\envs\\DANIELO_ENV\\Lib\\site-packages\\pyspark\\pandas\\__init__.py:50: UserWarning: 'PYARROW_IGNORE_TIMEZONE' environment variable was not set. It is required to set this environment variable to '1' in both driver and executor sides if you use pyarrow>=2.0.0. pandas-on-Spark will set it for you but it does not work if there is a Spark context already launched.\n",
      "  warnings.warn(\n"
     ]
    }
   ],
   "source": [
    "from pyspark.sql import SparkSession\n",
    "from pyspark.sql.functions import col, sum, round\n",
    "import pyspark.pandas as ps\n",
    "import plotly.express as px"
   ]
  },
  {
   "cell_type": "code",
   "execution_count": 2,
   "metadata": {},
   "outputs": [],
   "source": [
    "spark = SparkSession.builder.getOrCreate()"
   ]
  },
  {
   "cell_type": "code",
   "execution_count": 3,
   "metadata": {},
   "outputs": [],
   "source": [
    "path_past_death = r\"D:\\Documentos\\Projects\\un-data\\WPP2022_DeathsBySingleAgeSex_Medium_1950-2021.csv\"\n",
    "path_future_death = r\"D:\\Documentos\\Projects\\un-data\\WPP2022_DeathsBySingleAgeSex_Medium_2022-2100.csv\"\n",
    "path_birth = r\"D:\\Documentos\\Projects\\un-data\\WPP2022_Fertility_by_Age5.csv\""
   ]
  },
  {
   "cell_type": "code",
   "execution_count": 37,
   "metadata": {},
   "outputs": [
    {
     "data": {
      "text/plain": [
       "2072520"
      ]
     },
     "execution_count": 37,
     "metadata": {},
     "output_type": "execute_result"
    }
   ],
   "source": [
    "df_past_death = spark.read.csv(path_past_death, header=True)\n",
    "df_past_death = df_past_death.select('ISO3_code', 'LocTypeID', 'LocTypeName', 'Location', 'Time', 'AgeGrp', 'DeathMale', 'DeathFemale', 'DeathTotal')\n",
    "df_past_death = df_past_death.withColumn('Time', col('Time').cast('int'))\\\n",
    "                             .withColumn('DeathMale', col('DeathMale').cast('float'))\\\n",
    "                             .withColumn('DeathFemale', col('DeathFemale').cast('float'))\\\n",
    "                             .withColumn('DeathTotal', col('DeathTotal').cast('float'))\n",
    "df_past_death = df_past_death.filter(col('LocTypeName') == 'Country/Area')"
   ]
  },
  {
   "cell_type": "code",
   "execution_count": 20,
   "metadata": {},
   "outputs": [],
   "source": [
    "df_future_death = spark.read.csv(path_future_death, header=True)\n",
    "df_future_death = df_future_death.select('ISO3_code', 'LocTypeID', 'LocTypeName', 'Location', 'Time', 'AgeGrp', 'DeathMale', 'DeathFemale', 'DeathTotal')\n",
    "df_future_death = df_future_death.withColumn('Time', col('Time').cast('int'))\\\n",
    "                                 .withColumn('DeathMale', col('DeathMale').cast('float'))\\\n",
    "                                 .withColumn('DeathFemale', col('DeathFemale').cast('float'))\\\n",
    "                                 .withColumn('DeathTotal', col('DeathTotal').cast('float'))\n",
    "df_future_death = df_future_death.filter(col('LocTypeName') == 'Country/Area')"
   ]
  },
  {
   "cell_type": "code",
   "execution_count": 34,
   "metadata": {},
   "outputs": [
    {
     "name": "stdout",
     "output_type": "stream",
     "text": [
      "+----------------------------------+----+----------+\n",
      "|Location                          |Time|DeathTotal|\n",
      "+----------------------------------+----+----------+\n",
      "|United States of America          |2050|4.11      |\n",
      "|Nigeria                           |2050|3.71      |\n",
      "|Indonesia                         |2050|3.38      |\n",
      "|Pakistan                          |2050|2.55      |\n",
      "|Brazil                            |2050|2.34      |\n",
      "|Russian Federation                |2050|1.89      |\n",
      "|Bangladesh                        |2050|1.52      |\n",
      "|Japan                             |2050|1.51      |\n",
      "|Democratic Republic of the Congo  |2050|1.48      |\n",
      "|Mexico                            |2050|1.36      |\n",
      "|Philippines                       |2050|1.21      |\n",
      "|Ethiopia                          |2050|1.2       |\n",
      "|Viet Nam                          |2050|1.1       |\n",
      "|Germany                           |2050|1.09      |\n",
      "|Egypt                             |2050|1.09      |\n",
      "|Thailand                          |2050|0.89      |\n",
      "|Iran (Islamic Republic of)        |2050|0.87      |\n",
      "|Türkiye                           |2050|0.81      |\n",
      "|South Africa                      |2050|0.8       |\n",
      "|United Kingdom                    |2050|0.79      |\n",
      "|France                            |2050|0.77      |\n",
      "|Italy                             |2050|0.76      |\n",
      "|Myanmar                           |2050|0.7       |\n",
      "|Republic of Korea                 |2050|0.69      |\n",
      "|Kenya                             |2050|0.64      |\n",
      "|United Republic of Tanzania       |2050|0.62      |\n",
      "|Spain                             |2050|0.58      |\n",
      "|Sudan                             |2050|0.56      |\n",
      "|Ukraine                           |2050|0.55      |\n",
      "|Colombia                          |2050|0.53      |\n",
      "|Poland                            |2050|0.49      |\n",
      "|Uganda                            |2050|0.48      |\n",
      "|Canada                            |2050|0.48      |\n",
      "|Angola                            |2050|0.45      |\n",
      "|Argentina                         |2050|0.45      |\n",
      "|Iraq                              |2050|0.41      |\n",
      "|Côte d'Ivoire                     |2050|0.41      |\n",
      "|Afghanistan                       |2050|0.41      |\n",
      "|Ghana                             |2050|0.4       |\n",
      "|Algeria                           |2050|0.4       |\n",
      "|Uzbekistan                        |2050|0.38      |\n",
      "|Mozambique                        |2050|0.37      |\n",
      "|Cameroon                          |2050|0.37      |\n",
      "|Morocco                           |2050|0.36      |\n",
      "|Chad                              |2050|0.35      |\n",
      "|Malaysia                          |2050|0.35      |\n",
      "|Dem. People's Republic of Korea   |2050|0.35      |\n",
      "|Saudi Arabia                      |2050|0.34      |\n",
      "|Yemen                             |2050|0.34      |\n",
      "|Venezuela (Bolivarian Republic of)|2050|0.32      |\n",
      "|Niger                             |2050|0.32      |\n",
      "|Peru                              |2050|0.31      |\n",
      "|China, Taiwan Province of China   |2050|0.31      |\n",
      "|Madagascar                        |2050|0.31      |\n",
      "|Mali                              |2050|0.31      |\n",
      "|Burkina Faso                      |2050|0.29      |\n",
      "|Australia                         |2050|0.29      |\n",
      "|Somalia                           |2050|0.28      |\n",
      "|Nepal                             |2050|0.27      |\n",
      "|Zambia                            |2050|0.25      |\n",
      "|Romania                           |2050|0.24      |\n",
      "|Syrian Arab Republic              |2050|0.24      |\n",
      "|Sri Lanka                         |2050|0.23      |\n",
      "|Kazakhstan                        |2050|0.23      |\n",
      "|Netherlands                       |2050|0.22      |\n",
      "|Malawi                            |2050|0.21      |\n",
      "|Zimbabwe                          |2050|0.21      |\n",
      "|Chile                             |2050|0.2       |\n",
      "|Benin                             |2050|0.19      |\n",
      "|Guinea                            |2050|0.19      |\n",
      "|Cambodia                          |2050|0.18      |\n",
      "|Burundi                           |2050|0.16      |\n",
      "|Ecuador                           |2050|0.16      |\n",
      "|South Sudan                       |2050|0.16      |\n",
      "|Guatemala                         |2050|0.15      |\n",
      "|Cuba                              |2050|0.14      |\n",
      "|Belgium                           |2050|0.14      |\n",
      "|Rwanda                            |2050|0.14      |\n",
      "|Senegal                           |2050|0.13      |\n",
      "|Haiti                             |2050|0.13      |\n",
      "|Portugal                          |2050|0.13      |\n",
      "|Bolivia (Plurinational State of)  |2050|0.13      |\n",
      "|Greece                            |2050|0.13      |\n",
      "|Azerbaijan                        |2050|0.13      |\n",
      "|Tunisia                           |2050|0.13      |\n",
      "|Belarus                           |2050|0.12      |\n",
      "|Hungary                           |2050|0.12      |\n",
      "|Papua New Guinea                  |2050|0.12      |\n",
      "|Czechia                           |2050|0.12      |\n",
      "|Sweden                            |2050|0.12      |\n",
      "|Togo                              |2050|0.11      |\n",
      "|Austria                           |2050|0.11      |\n",
      "|Sierra Leone                      |2050|0.11      |\n",
      "|Dominican Republic                |2050|0.11      |\n",
      "|Switzerland                       |2050|0.11      |\n",
      "|China, Hong Kong SAR              |2050|0.1       |\n",
      "|Honduras                          |2050|0.1       |\n",
      "|Tajikistan                        |2050|0.09      |\n",
      "|Bulgaria                          |2050|0.09      |\n",
      "|Serbia                            |2050|0.09      |\n",
      "|Central African Republic          |2050|0.09      |\n",
      "|Jordan                            |2050|0.08      |\n",
      "|Singapore                         |2050|0.08      |\n",
      "|Congo                             |2050|0.08      |\n",
      "|Israel                            |2050|0.08      |\n",
      "|Lao People's Democratic Republic  |2050|0.07      |\n",
      "|Turkmenistan                      |2050|0.07      |\n",
      "|Libya                             |2050|0.07      |\n",
      "|Denmark                           |2050|0.07      |\n",
      "|Slovakia                          |2050|0.07      |\n",
      "|Finland                           |2050|0.07      |\n",
      "|Paraguay                          |2050|0.07      |\n",
      "|Liberia                           |2050|0.06      |\n",
      "|Kyrgyzstan                        |2050|0.06      |\n",
      "|Norway                            |2050|0.06      |\n",
      "|El Salvador                       |2050|0.06      |\n",
      "|Nicaragua                         |2050|0.06      |\n",
      "|New Zealand                       |2050|0.06      |\n",
      "|Ireland                           |2050|0.05      |\n",
      "|Costa Rica                        |2050|0.05      |\n",
      "|Kuwait                            |2050|0.05      |\n",
      "|Croatia                           |2050|0.05      |\n",
      "|Mauritania                        |2050|0.05      |\n",
      "|Lebanon                           |2050|0.05      |\n",
      "|Georgia                           |2050|0.04      |\n",
      "|Panama                            |2050|0.04      |\n",
      "|Puerto Rico                       |2050|0.04      |\n",
      "|Bosnia and Herzegovina            |2050|0.04      |\n",
      "|Republic of Moldova               |2050|0.04      |\n",
      "|United Arab Emirates              |2050|0.04      |\n",
      "|Uruguay                           |2050|0.04      |\n",
      "|Lithuania                         |2050|0.04      |\n",
      "|Lesotho                           |2050|0.04      |\n",
      "|State of Palestine                |2050|0.03      |\n",
      "|Botswana                          |2050|0.03      |\n",
      "|Jamaica                           |2050|0.03      |\n",
      "|Mongolia                          |2050|0.03      |\n",
      "|Albania                           |2050|0.03      |\n",
      "|Eritrea                           |2050|0.03      |\n",
      "|Armenia                           |2050|0.03      |\n",
      "|Namibia                           |2050|0.03      |\n",
      "|Gambia                            |2050|0.03      |\n",
      "|Gabon                             |2050|0.03      |\n",
      "|Slovenia                          |2050|0.03      |\n",
      "|Guinea-Bissau                     |2050|0.03      |\n",
      "|North Macedonia                   |2050|0.03      |\n",
      "|Latvia                            |2050|0.02      |\n",
      "|Equatorial Guinea                 |2050|0.02      |\n",
      "|Oman                              |2050|0.02      |\n",
      "|Trinidad and Tobago               |2050|0.02      |\n",
      "|Mauritius                         |2050|0.02      |\n",
      "|Estonia                           |2050|0.02      |\n",
      "|Kosovo (under UNSC res. 1244)     |2050|0.02      |\n",
      "|Eswatini                          |2050|0.02      |\n",
      "|Djibouti                          |2050|0.01      |\n",
      "|Cyprus                            |2050|0.01      |\n",
      "|Timor-Leste                       |2050|0.01      |\n",
      "|Fiji                              |2050|0.01      |\n",
      "|Réunion                           |2050|0.01      |\n",
      "|Comoros                           |2050|0.01      |\n",
      "|Bahrain                           |2050|0.01      |\n",
      "|Qatar                             |2050|0.01      |\n",
      "|Guyana                            |2050|0.01      |\n",
      "|China, Macao SAR                  |2050|0.01      |\n",
      "|Western Sahara                    |2050|0.01      |\n",
      "|Bhutan                            |2050|0.01      |\n",
      "|Luxembourg                        |2050|0.01      |\n",
      "|Montenegro                        |2050|0.01      |\n",
      "|Suriname                          |2050|0.01      |\n",
      "|Solomon Islands                   |2050|0.01      |\n",
      "|Malta                             |2050|0.01      |\n",
      "|Brunei Darussalam                 |2050|0.01      |\n",
      "|Bahamas                           |2050|0.01      |\n",
      "|Cabo Verde                        |2050|0.0       |\n",
      "|Martinique                        |2050|0.0       |\n",
      "|Guadeloupe                        |2050|0.0       |\n",
      "|Iceland                           |2050|0.0       |\n",
      "|Belize                            |2050|0.0       |\n",
      "|Maldives                          |2050|0.0       |\n",
      "|Barbados                          |2050|0.0       |\n",
      "|French Polynesia                  |2050|0.0       |\n",
      "|New Caledonia                     |2050|0.0       |\n",
      "|Vanuatu                           |2050|0.0       |\n",
      "|French Guiana                     |2050|0.0       |\n",
      "|Curaçao                           |2050|0.0       |\n",
      "|Sao Tome and Principe             |2050|0.0       |\n",
      "|Saint Lucia                       |2050|0.0       |\n",
      "|Mayotte                           |2050|0.0       |\n",
      "|Samoa                             |2050|0.0       |\n",
      "|Guam                              |2050|0.0       |\n",
      "|Aruba                             |2050|0.0       |\n",
      "|Kiribati                          |2050|0.0       |\n",
      "|Jersey                            |2050|0.0       |\n",
      "|Grenada                           |2050|0.0       |\n",
      "|United States Virgin Islands      |2050|0.0       |\n",
      "|Saint Vincent and the Grenadines  |2050|0.0       |\n",
      "|Seychelles                        |2050|0.0       |\n",
      "|Isle of Man                       |2050|0.0       |\n",
      "|Antigua and Barbuda               |2050|0.0       |\n",
      "|Micronesia (Fed. States of)       |2050|0.0       |\n",
      "|Andorra                           |2050|0.0       |\n",
      "|Cayman Islands                    |2050|0.0       |\n",
      "|Tonga                             |2050|0.0       |\n",
      "|Bermuda                           |2050|0.0       |\n",
      "|Dominica                          |2050|0.0       |\n",
      "|Sint Maarten (Dutch part)         |2050|0.0       |\n",
      "|Greenland                         |2050|0.0       |\n",
      "|Guernsey                          |2050|0.0       |\n",
      "|Northern Mariana Islands          |2050|0.0       |\n",
      "|Saint Kitts and Nevis             |2050|0.0       |\n",
      "|Turks and Caicos Islands          |2050|0.0       |\n",
      "|Faroe Islands                     |2050|0.0       |\n",
      "|Marshall Islands                  |2050|0.0       |\n",
      "|Liechtenstein                     |2050|0.0       |\n",
      "|San Marino                        |2050|0.0       |\n",
      "|Monaco                            |2050|0.0       |\n",
      "|British Virgin Islands            |2050|0.0       |\n",
      "|American Samoa                    |2050|0.0       |\n",
      "|Saint Martin (French part)        |2050|0.0       |\n",
      "|Gibraltar                         |2050|0.0       |\n",
      "|Bonaire, Sint Eustatius and Saba  |2050|0.0       |\n",
      "|Palau                             |2050|0.0       |\n",
      "|Anguilla                          |2050|0.0       |\n",
      "|Cook Islands                      |2050|0.0       |\n",
      "|Saint Barthélemy                  |2050|0.0       |\n",
      "|Tuvalu                            |2050|0.0       |\n",
      "|Nauru                             |2050|0.0       |\n",
      "|Wallis and Futuna Islands         |2050|0.0       |\n",
      "|Saint Helena                      |2050|0.0       |\n",
      "|Saint Pierre and Miquelon         |2050|0.0       |\n",
      "|Montserrat                        |2050|0.0       |\n",
      "|Falkland Islands (Malvinas)       |2050|0.0       |\n",
      "|Niue                              |2050|0.0       |\n",
      "|Tokelau                           |2050|0.0       |\n",
      "+----------------------------------+----+----------+\n",
      "\n"
     ]
    },
    {
     "name": "stderr",
     "output_type": "stream",
     "text": [
      "c:\\Users\\DANIEL\\.conda\\envs\\DANIELO_ENV\\Lib\\site-packages\\pyspark\\pandas\\utils.py:975: PandasAPIOnSparkAdviceWarning:\n",
      "\n",
      "`to_pandas` loads all data into the driver's memory. It should only be used if the resulting pandas DataFrame is expected to be small.\n",
      "\n"
     ]
    },
    {
     "data": {
      "application/vnd.plotly.v1+json": {
       "config": {
        "plotlyServerURL": "https://plot.ly"
       },
       "data": [
        {
         "coloraxis": "coloraxis",
         "geo": "geo",
         "hovertemplate": "Location=%{location}<br>DeathTotal=%{z}<extra></extra>",
         "locationmode": "country names",
         "locations": [
          "United States of America",
          "Nigeria",
          "Indonesia",
          "Pakistan",
          "Brazil",
          "Russian Federation",
          "Bangladesh",
          "Japan",
          "Democratic Republic of the Congo",
          "Mexico",
          "Philippines",
          "Ethiopia",
          "Viet Nam",
          "Germany",
          "Egypt",
          "Thailand",
          "Iran (Islamic Republic of)",
          "Türkiye",
          "South Africa",
          "United Kingdom",
          "France",
          "Italy",
          "Myanmar",
          "Republic of Korea",
          "Kenya",
          "United Republic of Tanzania",
          "Spain",
          "Sudan",
          "Ukraine",
          "Colombia",
          "Poland",
          "Uganda",
          "Canada",
          "Angola",
          "Argentina",
          "Iraq",
          "Côte d'Ivoire",
          "Afghanistan",
          "Ghana",
          "Algeria",
          "Uzbekistan",
          "Mozambique",
          "Cameroon",
          "Morocco",
          "Chad",
          "Malaysia",
          "Dem. People's Republic of Korea",
          "Saudi Arabia",
          "Yemen",
          "Venezuela (Bolivarian Republic of)",
          "Niger",
          "Peru",
          "China, Taiwan Province of China",
          "Madagascar",
          "Mali",
          "Burkina Faso",
          "Australia",
          "Somalia",
          "Nepal",
          "Zambia",
          "Romania",
          "Syrian Arab Republic",
          "Sri Lanka",
          "Kazakhstan",
          "Netherlands",
          "Malawi",
          "Zimbabwe",
          "Chile",
          "Benin",
          "Guinea",
          "Cambodia",
          "Burundi",
          "Ecuador",
          "South Sudan",
          "Guatemala",
          "Cuba",
          "Belgium",
          "Rwanda",
          "Senegal",
          "Haiti",
          "Portugal",
          "Bolivia (Plurinational State of)",
          "Greece",
          "Azerbaijan",
          "Tunisia",
          "Belarus",
          "Hungary",
          "Papua New Guinea",
          "Czechia",
          "Sweden",
          "Togo",
          "Austria",
          "Sierra Leone",
          "Dominican Republic",
          "Switzerland",
          "China, Hong Kong SAR",
          "Honduras",
          "Tajikistan",
          "Bulgaria",
          "Serbia",
          "Central African Republic",
          "Jordan",
          "Singapore",
          "Congo",
          "Israel",
          "Lao People's Democratic Republic",
          "Turkmenistan",
          "Libya",
          "Denmark",
          "Slovakia",
          "Finland",
          "Paraguay",
          "Liberia",
          "Kyrgyzstan",
          "Norway",
          "El Salvador",
          "Nicaragua",
          "New Zealand",
          "Ireland",
          "Costa Rica",
          "Kuwait",
          "Croatia",
          "Mauritania",
          "Lebanon",
          "Georgia",
          "Panama",
          "Puerto Rico",
          "Bosnia and Herzegovina",
          "Republic of Moldova",
          "United Arab Emirates",
          "Uruguay",
          "Lithuania",
          "Lesotho",
          "State of Palestine",
          "Botswana",
          "Jamaica",
          "Mongolia",
          "Albania",
          "Eritrea",
          "Armenia",
          "Namibia",
          "Gambia",
          "Gabon",
          "Slovenia",
          "Guinea-Bissau",
          "North Macedonia",
          "Latvia",
          "Equatorial Guinea",
          "Oman",
          "Trinidad and Tobago",
          "Mauritius",
          "Estonia",
          "Kosovo (under UNSC res. 1244)",
          "Eswatini",
          "Djibouti",
          "Cyprus",
          "Timor-Leste",
          "Fiji",
          "Réunion",
          "Comoros",
          "Bahrain",
          "Qatar",
          "Guyana",
          "China, Macao SAR",
          "Western Sahara",
          "Bhutan",
          "Luxembourg",
          "Montenegro",
          "Suriname",
          "Solomon Islands",
          "Malta",
          "Brunei Darussalam",
          "Bahamas",
          "Cabo Verde",
          "Martinique",
          "Guadeloupe",
          "Iceland",
          "Belize",
          "Maldives",
          "Barbados",
          "French Polynesia",
          "New Caledonia",
          "Vanuatu",
          "French Guiana",
          "Curaçao",
          "Sao Tome and Principe",
          "Saint Lucia",
          "Mayotte",
          "Samoa",
          "Guam",
          "Aruba",
          "Kiribati",
          "Jersey",
          "Grenada",
          "United States Virgin Islands",
          "Saint Vincent and the Grenadines",
          "Seychelles",
          "Isle of Man",
          "Antigua and Barbuda",
          "Micronesia (Fed. States of)",
          "Andorra",
          "Cayman Islands",
          "Tonga",
          "Bermuda",
          "Dominica",
          "Sint Maarten (Dutch part)",
          "Greenland",
          "Guernsey",
          "Northern Mariana Islands",
          "Saint Kitts and Nevis",
          "Turks and Caicos Islands",
          "Faroe Islands",
          "Marshall Islands",
          "Liechtenstein",
          "San Marino",
          "Monaco",
          "British Virgin Islands",
          "American Samoa",
          "Saint Martin (French part)",
          "Gibraltar",
          "Bonaire, Sint Eustatius and Saba",
          "Palau",
          "Anguilla",
          "Cook Islands",
          "Saint Barthélemy",
          "Tuvalu",
          "Nauru",
          "Wallis and Futuna Islands",
          "Saint Helena",
          "Saint Pierre and Miquelon",
          "Montserrat",
          "Falkland Islands (Malvinas)",
          "Niue",
          "Tokelau"
         ],
         "name": "",
         "type": "choropleth",
         "z": [
          4.11,
          3.71,
          3.38,
          2.55,
          2.34,
          1.89,
          1.52,
          1.51,
          1.48,
          1.36,
          1.21,
          1.2,
          1.1,
          1.09,
          1.09,
          0.89,
          0.87,
          0.81,
          0.8,
          0.79,
          0.77,
          0.76,
          0.7,
          0.69,
          0.64,
          0.62,
          0.58,
          0.56,
          0.55,
          0.53,
          0.49,
          0.48,
          0.48,
          0.45,
          0.45,
          0.41,
          0.41,
          0.41,
          0.4,
          0.4,
          0.38,
          0.37,
          0.37,
          0.36,
          0.35,
          0.35,
          0.35,
          0.34,
          0.34,
          0.32,
          0.32,
          0.31,
          0.31,
          0.31,
          0.31,
          0.29,
          0.29,
          0.28,
          0.27,
          0.25,
          0.24,
          0.24,
          0.23,
          0.23,
          0.22,
          0.21,
          0.21,
          0.2,
          0.19,
          0.19,
          0.18,
          0.16,
          0.16,
          0.16,
          0.15,
          0.14,
          0.14,
          0.14,
          0.13,
          0.13,
          0.13,
          0.13,
          0.13,
          0.13,
          0.13,
          0.12,
          0.12,
          0.12,
          0.12,
          0.12,
          0.11,
          0.11,
          0.11,
          0.11,
          0.11,
          0.1,
          0.1,
          0.09,
          0.09,
          0.09,
          0.09,
          0.08,
          0.08,
          0.08,
          0.08,
          0.07,
          0.07,
          0.07,
          0.07,
          0.07,
          0.07,
          0.07,
          0.06,
          0.06,
          0.06,
          0.06,
          0.06,
          0.06,
          0.05,
          0.05,
          0.05,
          0.05,
          0.05,
          0.05,
          0.04,
          0.04,
          0.04,
          0.04,
          0.04,
          0.04,
          0.04,
          0.04,
          0.04,
          0.03,
          0.03,
          0.03,
          0.03,
          0.03,
          0.03,
          0.03,
          0.03,
          0.03,
          0.03,
          0.03,
          0.03,
          0.03,
          0.02,
          0.02,
          0.02,
          0.02,
          0.02,
          0.02,
          0.02,
          0.02,
          0.01,
          0.01,
          0.01,
          0.01,
          0.01,
          0.01,
          0.01,
          0.01,
          0.01,
          0.01,
          0.01,
          0.01,
          0.01,
          0.01,
          0.01,
          0.01,
          0.01,
          0.01,
          0.01,
          0,
          0,
          0,
          0,
          0,
          0,
          0,
          0,
          0,
          0,
          0,
          0,
          0,
          0,
          0,
          0,
          0,
          0,
          0,
          0,
          0,
          0,
          0,
          0,
          0,
          0,
          0,
          0,
          0,
          0,
          0,
          0,
          0,
          0,
          0,
          0,
          0,
          0,
          0,
          0,
          0,
          0,
          0,
          0,
          0,
          0,
          0,
          0,
          0,
          0,
          0,
          0,
          0,
          0,
          0,
          0,
          0,
          0,
          0,
          0,
          0
         ]
        }
       ],
       "layout": {
        "coloraxis": {
         "colorbar": {
          "title": {
           "text": "DeathTotal"
          }
         },
         "colorscale": [
          [
           0,
           "#0d0887"
          ],
          [
           0.1111111111111111,
           "#46039f"
          ],
          [
           0.2222222222222222,
           "#7201a8"
          ],
          [
           0.3333333333333333,
           "#9c179e"
          ],
          [
           0.4444444444444444,
           "#bd3786"
          ],
          [
           0.5555555555555556,
           "#d8576b"
          ],
          [
           0.6666666666666666,
           "#ed7953"
          ],
          [
           0.7777777777777778,
           "#fb9f3a"
          ],
          [
           0.8888888888888888,
           "#fdca26"
          ],
          [
           1,
           "#f0f921"
          ]
         ]
        },
        "geo": {
         "center": {},
         "domain": {
          "x": [
           0,
           1
          ],
          "y": [
           0,
           1
          ]
         }
        },
        "height": 500,
        "legend": {
         "tracegroupgap": 0
        },
        "template": {
         "data": {
          "bar": [
           {
            "error_x": {
             "color": "#2a3f5f"
            },
            "error_y": {
             "color": "#2a3f5f"
            },
            "marker": {
             "line": {
              "color": "#E5ECF6",
              "width": 0.5
             },
             "pattern": {
              "fillmode": "overlay",
              "size": 10,
              "solidity": 0.2
             }
            },
            "type": "bar"
           }
          ],
          "barpolar": [
           {
            "marker": {
             "line": {
              "color": "#E5ECF6",
              "width": 0.5
             },
             "pattern": {
              "fillmode": "overlay",
              "size": 10,
              "solidity": 0.2
             }
            },
            "type": "barpolar"
           }
          ],
          "carpet": [
           {
            "aaxis": {
             "endlinecolor": "#2a3f5f",
             "gridcolor": "white",
             "linecolor": "white",
             "minorgridcolor": "white",
             "startlinecolor": "#2a3f5f"
            },
            "baxis": {
             "endlinecolor": "#2a3f5f",
             "gridcolor": "white",
             "linecolor": "white",
             "minorgridcolor": "white",
             "startlinecolor": "#2a3f5f"
            },
            "type": "carpet"
           }
          ],
          "choropleth": [
           {
            "colorbar": {
             "outlinewidth": 0,
             "ticks": ""
            },
            "type": "choropleth"
           }
          ],
          "contour": [
           {
            "colorbar": {
             "outlinewidth": 0,
             "ticks": ""
            },
            "colorscale": [
             [
              0,
              "#0d0887"
             ],
             [
              0.1111111111111111,
              "#46039f"
             ],
             [
              0.2222222222222222,
              "#7201a8"
             ],
             [
              0.3333333333333333,
              "#9c179e"
             ],
             [
              0.4444444444444444,
              "#bd3786"
             ],
             [
              0.5555555555555556,
              "#d8576b"
             ],
             [
              0.6666666666666666,
              "#ed7953"
             ],
             [
              0.7777777777777778,
              "#fb9f3a"
             ],
             [
              0.8888888888888888,
              "#fdca26"
             ],
             [
              1,
              "#f0f921"
             ]
            ],
            "type": "contour"
           }
          ],
          "contourcarpet": [
           {
            "colorbar": {
             "outlinewidth": 0,
             "ticks": ""
            },
            "type": "contourcarpet"
           }
          ],
          "heatmap": [
           {
            "colorbar": {
             "outlinewidth": 0,
             "ticks": ""
            },
            "colorscale": [
             [
              0,
              "#0d0887"
             ],
             [
              0.1111111111111111,
              "#46039f"
             ],
             [
              0.2222222222222222,
              "#7201a8"
             ],
             [
              0.3333333333333333,
              "#9c179e"
             ],
             [
              0.4444444444444444,
              "#bd3786"
             ],
             [
              0.5555555555555556,
              "#d8576b"
             ],
             [
              0.6666666666666666,
              "#ed7953"
             ],
             [
              0.7777777777777778,
              "#fb9f3a"
             ],
             [
              0.8888888888888888,
              "#fdca26"
             ],
             [
              1,
              "#f0f921"
             ]
            ],
            "type": "heatmap"
           }
          ],
          "heatmapgl": [
           {
            "colorbar": {
             "outlinewidth": 0,
             "ticks": ""
            },
            "colorscale": [
             [
              0,
              "#0d0887"
             ],
             [
              0.1111111111111111,
              "#46039f"
             ],
             [
              0.2222222222222222,
              "#7201a8"
             ],
             [
              0.3333333333333333,
              "#9c179e"
             ],
             [
              0.4444444444444444,
              "#bd3786"
             ],
             [
              0.5555555555555556,
              "#d8576b"
             ],
             [
              0.6666666666666666,
              "#ed7953"
             ],
             [
              0.7777777777777778,
              "#fb9f3a"
             ],
             [
              0.8888888888888888,
              "#fdca26"
             ],
             [
              1,
              "#f0f921"
             ]
            ],
            "type": "heatmapgl"
           }
          ],
          "histogram": [
           {
            "marker": {
             "pattern": {
              "fillmode": "overlay",
              "size": 10,
              "solidity": 0.2
             }
            },
            "type": "histogram"
           }
          ],
          "histogram2d": [
           {
            "colorbar": {
             "outlinewidth": 0,
             "ticks": ""
            },
            "colorscale": [
             [
              0,
              "#0d0887"
             ],
             [
              0.1111111111111111,
              "#46039f"
             ],
             [
              0.2222222222222222,
              "#7201a8"
             ],
             [
              0.3333333333333333,
              "#9c179e"
             ],
             [
              0.4444444444444444,
              "#bd3786"
             ],
             [
              0.5555555555555556,
              "#d8576b"
             ],
             [
              0.6666666666666666,
              "#ed7953"
             ],
             [
              0.7777777777777778,
              "#fb9f3a"
             ],
             [
              0.8888888888888888,
              "#fdca26"
             ],
             [
              1,
              "#f0f921"
             ]
            ],
            "type": "histogram2d"
           }
          ],
          "histogram2dcontour": [
           {
            "colorbar": {
             "outlinewidth": 0,
             "ticks": ""
            },
            "colorscale": [
             [
              0,
              "#0d0887"
             ],
             [
              0.1111111111111111,
              "#46039f"
             ],
             [
              0.2222222222222222,
              "#7201a8"
             ],
             [
              0.3333333333333333,
              "#9c179e"
             ],
             [
              0.4444444444444444,
              "#bd3786"
             ],
             [
              0.5555555555555556,
              "#d8576b"
             ],
             [
              0.6666666666666666,
              "#ed7953"
             ],
             [
              0.7777777777777778,
              "#fb9f3a"
             ],
             [
              0.8888888888888888,
              "#fdca26"
             ],
             [
              1,
              "#f0f921"
             ]
            ],
            "type": "histogram2dcontour"
           }
          ],
          "mesh3d": [
           {
            "colorbar": {
             "outlinewidth": 0,
             "ticks": ""
            },
            "type": "mesh3d"
           }
          ],
          "parcoords": [
           {
            "line": {
             "colorbar": {
              "outlinewidth": 0,
              "ticks": ""
             }
            },
            "type": "parcoords"
           }
          ],
          "pie": [
           {
            "automargin": true,
            "type": "pie"
           }
          ],
          "scatter": [
           {
            "fillpattern": {
             "fillmode": "overlay",
             "size": 10,
             "solidity": 0.2
            },
            "type": "scatter"
           }
          ],
          "scatter3d": [
           {
            "line": {
             "colorbar": {
              "outlinewidth": 0,
              "ticks": ""
             }
            },
            "marker": {
             "colorbar": {
              "outlinewidth": 0,
              "ticks": ""
             }
            },
            "type": "scatter3d"
           }
          ],
          "scattercarpet": [
           {
            "marker": {
             "colorbar": {
              "outlinewidth": 0,
              "ticks": ""
             }
            },
            "type": "scattercarpet"
           }
          ],
          "scattergeo": [
           {
            "marker": {
             "colorbar": {
              "outlinewidth": 0,
              "ticks": ""
             }
            },
            "type": "scattergeo"
           }
          ],
          "scattergl": [
           {
            "marker": {
             "colorbar": {
              "outlinewidth": 0,
              "ticks": ""
             }
            },
            "type": "scattergl"
           }
          ],
          "scattermapbox": [
           {
            "marker": {
             "colorbar": {
              "outlinewidth": 0,
              "ticks": ""
             }
            },
            "type": "scattermapbox"
           }
          ],
          "scatterpolar": [
           {
            "marker": {
             "colorbar": {
              "outlinewidth": 0,
              "ticks": ""
             }
            },
            "type": "scatterpolar"
           }
          ],
          "scatterpolargl": [
           {
            "marker": {
             "colorbar": {
              "outlinewidth": 0,
              "ticks": ""
             }
            },
            "type": "scatterpolargl"
           }
          ],
          "scatterternary": [
           {
            "marker": {
             "colorbar": {
              "outlinewidth": 0,
              "ticks": ""
             }
            },
            "type": "scatterternary"
           }
          ],
          "surface": [
           {
            "colorbar": {
             "outlinewidth": 0,
             "ticks": ""
            },
            "colorscale": [
             [
              0,
              "#0d0887"
             ],
             [
              0.1111111111111111,
              "#46039f"
             ],
             [
              0.2222222222222222,
              "#7201a8"
             ],
             [
              0.3333333333333333,
              "#9c179e"
             ],
             [
              0.4444444444444444,
              "#bd3786"
             ],
             [
              0.5555555555555556,
              "#d8576b"
             ],
             [
              0.6666666666666666,
              "#ed7953"
             ],
             [
              0.7777777777777778,
              "#fb9f3a"
             ],
             [
              0.8888888888888888,
              "#fdca26"
             ],
             [
              1,
              "#f0f921"
             ]
            ],
            "type": "surface"
           }
          ],
          "table": [
           {
            "cells": {
             "fill": {
              "color": "#EBF0F8"
             },
             "line": {
              "color": "white"
             }
            },
            "header": {
             "fill": {
              "color": "#C8D4E3"
             },
             "line": {
              "color": "white"
             }
            },
            "type": "table"
           }
          ]
         },
         "layout": {
          "annotationdefaults": {
           "arrowcolor": "#2a3f5f",
           "arrowhead": 0,
           "arrowwidth": 1
          },
          "autotypenumbers": "strict",
          "coloraxis": {
           "colorbar": {
            "outlinewidth": 0,
            "ticks": ""
           }
          },
          "colorscale": {
           "diverging": [
            [
             0,
             "#8e0152"
            ],
            [
             0.1,
             "#c51b7d"
            ],
            [
             0.2,
             "#de77ae"
            ],
            [
             0.3,
             "#f1b6da"
            ],
            [
             0.4,
             "#fde0ef"
            ],
            [
             0.5,
             "#f7f7f7"
            ],
            [
             0.6,
             "#e6f5d0"
            ],
            [
             0.7,
             "#b8e186"
            ],
            [
             0.8,
             "#7fbc41"
            ],
            [
             0.9,
             "#4d9221"
            ],
            [
             1,
             "#276419"
            ]
           ],
           "sequential": [
            [
             0,
             "#0d0887"
            ],
            [
             0.1111111111111111,
             "#46039f"
            ],
            [
             0.2222222222222222,
             "#7201a8"
            ],
            [
             0.3333333333333333,
             "#9c179e"
            ],
            [
             0.4444444444444444,
             "#bd3786"
            ],
            [
             0.5555555555555556,
             "#d8576b"
            ],
            [
             0.6666666666666666,
             "#ed7953"
            ],
            [
             0.7777777777777778,
             "#fb9f3a"
            ],
            [
             0.8888888888888888,
             "#fdca26"
            ],
            [
             1,
             "#f0f921"
            ]
           ],
           "sequentialminus": [
            [
             0,
             "#0d0887"
            ],
            [
             0.1111111111111111,
             "#46039f"
            ],
            [
             0.2222222222222222,
             "#7201a8"
            ],
            [
             0.3333333333333333,
             "#9c179e"
            ],
            [
             0.4444444444444444,
             "#bd3786"
            ],
            [
             0.5555555555555556,
             "#d8576b"
            ],
            [
             0.6666666666666666,
             "#ed7953"
            ],
            [
             0.7777777777777778,
             "#fb9f3a"
            ],
            [
             0.8888888888888888,
             "#fdca26"
            ],
            [
             1,
             "#f0f921"
            ]
           ]
          },
          "colorway": [
           "#636efa",
           "#EF553B",
           "#00cc96",
           "#ab63fa",
           "#FFA15A",
           "#19d3f3",
           "#FF6692",
           "#B6E880",
           "#FF97FF",
           "#FECB52"
          ],
          "font": {
           "color": "#2a3f5f"
          },
          "geo": {
           "bgcolor": "white",
           "lakecolor": "white",
           "landcolor": "#E5ECF6",
           "showlakes": true,
           "showland": true,
           "subunitcolor": "white"
          },
          "hoverlabel": {
           "align": "left"
          },
          "hovermode": "closest",
          "mapbox": {
           "style": "light"
          },
          "paper_bgcolor": "white",
          "plot_bgcolor": "#E5ECF6",
          "polar": {
           "angularaxis": {
            "gridcolor": "white",
            "linecolor": "white",
            "ticks": ""
           },
           "bgcolor": "#E5ECF6",
           "radialaxis": {
            "gridcolor": "white",
            "linecolor": "white",
            "ticks": ""
           }
          },
          "scene": {
           "xaxis": {
            "backgroundcolor": "#E5ECF6",
            "gridcolor": "white",
            "gridwidth": 2,
            "linecolor": "white",
            "showbackground": true,
            "ticks": "",
            "zerolinecolor": "white"
           },
           "yaxis": {
            "backgroundcolor": "#E5ECF6",
            "gridcolor": "white",
            "gridwidth": 2,
            "linecolor": "white",
            "showbackground": true,
            "ticks": "",
            "zerolinecolor": "white"
           },
           "zaxis": {
            "backgroundcolor": "#E5ECF6",
            "gridcolor": "white",
            "gridwidth": 2,
            "linecolor": "white",
            "showbackground": true,
            "ticks": "",
            "zerolinecolor": "white"
           }
          },
          "shapedefaults": {
           "line": {
            "color": "#2a3f5f"
           }
          },
          "ternary": {
           "aaxis": {
            "gridcolor": "white",
            "linecolor": "white",
            "ticks": ""
           },
           "baxis": {
            "gridcolor": "white",
            "linecolor": "white",
            "ticks": ""
           },
           "bgcolor": "#E5ECF6",
           "caxis": {
            "gridcolor": "white",
            "linecolor": "white",
            "ticks": ""
           }
          },
          "title": {
           "x": 0.05
          },
          "xaxis": {
           "automargin": true,
           "gridcolor": "white",
           "linecolor": "white",
           "ticks": "",
           "title": {
            "standoff": 15
           },
           "zerolinecolor": "white",
           "zerolinewidth": 2
          },
          "yaxis": {
           "automargin": true,
           "gridcolor": "white",
           "linecolor": "white",
           "ticks": "",
           "title": {
            "standoff": 15
           },
           "zerolinecolor": "white",
           "zerolinewidth": 2
          }
         }
        },
        "title": {
         "text": "Total Deaths in 2050"
        }
       }
      }
     },
     "metadata": {},
     "output_type": "display_data"
    }
   ],
   "source": [
    "df_past_death_total = df_past_death.withColumn('DeathTotal', col('DeathTotal').cast('float'))\n",
    "df_past_death_total = df_past_death_total.select(col('Location'), col('Time'), col('DeathTotal')).groupBy('Location', 'Time').agg(sum('DeathTotal').alias('DeathTotal')).orderBy(col('Time'))\n",
    "df_past_death_total = df_past_death_total.withColumn('DeathTotal', round(col('DeathTotal'), 2))\n",
    "df_future_death_total = df_future_death.withColumn('DeathTotal', col('DeathTotal').cast('float'))\n",
    "df_future_death_total = df_future_death_total.select(col('Location'), col('Time'), col('DeathTotal')).groupBy('Location', 'Time').agg(sum('DeathTotal').alias('DeathTotal')).orderBy(col('Time'))\n",
    "df_future_death_total = df_future_death_total.withColumn('DeathTotal', round(col('DeathTotal'), 2))\n",
    "df_death_total = df_past_death_total.union(df_future_death_total).orderBy(col('Time'))\n",
    "\n",
    "year = input('Enter the year: ').title()\n",
    "threshold = input('Enter the threshold in millions: ')\n",
    "\n",
    "df_death_total_year = df_death_total.filter(col('Time') == year).orderBy(col('DeathTotal').desc(), col('Location').asc())\n",
    "df_death_total_year = df_death_total_year.withColumn('DeathTotal', round((col('DeathTotal') / 1000), 2))\n",
    "df_death_total_year = df_death_total_year.filter(col('DeathTotal') < threshold)\n",
    "df_death_total_year.show(truncate=False, n=300)\n",
    "\n",
    "df_death_total_year_pandas = df_death_total_year.pandas_api()\n",
    "\n",
    "plot = px.choropleth(df_death_total_year_pandas, color='DeathTotal', locations='Location', locationmode='country names', height=500, title=f'Total Deaths in {year}')\n",
    "plot.show()"
   ]
  },
  {
   "cell_type": "code",
   "execution_count": 6,
   "metadata": {},
   "outputs": [
    {
     "name": "stdout",
     "output_type": "stream",
     "text": [
      "+---------+---------+------------+--------+----+--------------+----------------+---------------+\n",
      "|ISO3_code|LocTypeID| LocTypeName|Location|Time|DeathMaleTotal|DeathFemaleTotal|DeathGrandTotal|\n",
      "+---------+---------+------------+--------+----+--------------+----------------+---------------+\n",
      "|      COL|        4|Country/Area|Colombia|1950|        110.39|           95.56|         205.96|\n",
      "|      COL|        4|Country/Area|Colombia|1951|        109.75|            95.5|         205.24|\n",
      "|      COL|        4|Country/Area|Colombia|1952|         108.2|           94.36|         202.56|\n",
      "|      COL|        4|Country/Area|Colombia|1953|        106.86|           93.07|         199.93|\n",
      "|      COL|        4|Country/Area|Colombia|1954|        106.02|           92.05|         198.07|\n",
      "|      COL|        4|Country/Area|Colombia|1955|        105.67|           91.32|         196.99|\n",
      "|      COL|        4|Country/Area|Colombia|1956|        105.84|           91.06|         196.89|\n",
      "|      COL|        4|Country/Area|Colombia|1957|        101.68|           88.62|          190.3|\n",
      "|      COL|        4|Country/Area|Colombia|1958|        102.37|           88.83|         191.21|\n",
      "|      COL|        4|Country/Area|Colombia|1959|        100.19|           87.54|         187.73|\n",
      "|      COL|        4|Country/Area|Colombia|1960|         99.59|            87.0|         186.59|\n",
      "|      COL|        4|Country/Area|Colombia|1961|         99.31|           86.74|         186.05|\n",
      "|      COL|        4|Country/Area|Colombia|1962|         98.99|           86.54|         185.53|\n",
      "|      COL|        4|Country/Area|Colombia|1963|         98.37|           86.12|         184.49|\n",
      "|      COL|        4|Country/Area|Colombia|1964|         98.18|           85.85|         184.03|\n",
      "|      COL|        4|Country/Area|Colombia|1965|         97.85|           85.63|         183.49|\n",
      "|      COL|        4|Country/Area|Colombia|1966|          97.5|           85.46|         182.97|\n",
      "|      COL|        4|Country/Area|Colombia|1967|         97.26|           85.39|         182.64|\n",
      "|      COL|        4|Country/Area|Colombia|1968|         96.85|           85.05|         181.89|\n",
      "|      COL|        4|Country/Area|Colombia|1969|          96.3|           84.51|         180.82|\n",
      "+---------+---------+------------+--------+----+--------------+----------------+---------------+\n",
      "only showing top 20 rows\n",
      "\n",
      "root\n",
      " |-- ISO3_code: string (nullable = true)\n",
      " |-- LocTypeID: string (nullable = true)\n",
      " |-- LocTypeName: string (nullable = true)\n",
      " |-- Location: string (nullable = true)\n",
      " |-- Time: integer (nullable = true)\n",
      " |-- DeathMaleTotal: double (nullable = true)\n",
      " |-- DeathFemaleTotal: double (nullable = true)\n",
      " |-- DeathGrandTotal: double (nullable = true)\n",
      "\n"
     ]
    },
    {
     "data": {
      "application/vnd.plotly.v1+json": {
       "config": {
        "plotlyServerURL": "https://plot.ly"
       },
       "data": [
        {
         "hovertemplate": "variable=DeathMaleTotal<br>Time=%{x}<br>value=%{y}<extra></extra>",
         "legendgroup": "DeathMaleTotal",
         "line": {
          "color": "#636efa",
          "dash": "solid"
         },
         "marker": {
          "symbol": "circle"
         },
         "mode": "lines",
         "name": "DeathMaleTotal",
         "orientation": "v",
         "showlegend": true,
         "type": "scatter",
         "x": [
          1950,
          1951,
          1952,
          1953,
          1954,
          1955,
          1956,
          1957,
          1958,
          1959,
          1960,
          1961,
          1962,
          1963,
          1964,
          1965,
          1966,
          1967,
          1968,
          1969,
          1970,
          1971,
          1972,
          1973,
          1974,
          1975,
          1976,
          1977,
          1978,
          1979,
          1980,
          1981,
          1982,
          1983,
          1984,
          1985,
          1986,
          1987,
          1988,
          1989,
          1990,
          1991,
          1992,
          1993,
          1994,
          1995,
          1996,
          1997,
          1998,
          1999,
          2000,
          2001,
          2002,
          2003,
          2004,
          2005,
          2006,
          2007,
          2008,
          2009,
          2010,
          2011,
          2012,
          2013,
          2014,
          2015,
          2016,
          2017,
          2018,
          2019,
          2020,
          2021
         ],
         "xaxis": "x",
         "y": [
          110.39,
          109.75,
          108.2,
          106.86,
          106.02,
          105.67,
          105.84,
          101.68,
          102.37,
          100.19,
          99.59,
          99.31,
          98.99,
          98.37,
          98.18,
          97.85,
          97.5,
          97.26,
          96.85,
          96.3,
          95.72,
          94.5,
          93.23,
          92.4,
          91.22,
          90.17,
          89.6,
          89.11,
          89.04,
          89.48,
          89.57,
          90.51,
          91.3,
          92.89,
          94.78,
          107.04,
          100.51,
          104.83,
          108.91,
          112.3,
          115.8,
          118.25,
          119.84,
          120.32,
          121.09,
          121.57,
          122.82,
          123.66,
          125.09,
          126.63,
          126.58,
          128.06,
          127.23,
          126.24,
          126.32,
          125.81,
          125.54,
          126.16,
          125.64,
          125.24,
          126.58,
          128.17,
          130.08,
          132.44,
          134.81,
          136.96,
          138.68,
          140.46,
          144.94,
          151.16,
          191.26,
          226.5
         ],
         "yaxis": "y"
        },
        {
         "hovertemplate": "variable=DeathFemaleTotal<br>Time=%{x}<br>value=%{y}<extra></extra>",
         "legendgroup": "DeathFemaleTotal",
         "line": {
          "color": "#EF553B",
          "dash": "solid"
         },
         "marker": {
          "symbol": "circle"
         },
         "mode": "lines",
         "name": "DeathFemaleTotal",
         "orientation": "v",
         "showlegend": true,
         "type": "scatter",
         "x": [
          1950,
          1951,
          1952,
          1953,
          1954,
          1955,
          1956,
          1957,
          1958,
          1959,
          1960,
          1961,
          1962,
          1963,
          1964,
          1965,
          1966,
          1967,
          1968,
          1969,
          1970,
          1971,
          1972,
          1973,
          1974,
          1975,
          1976,
          1977,
          1978,
          1979,
          1980,
          1981,
          1982,
          1983,
          1984,
          1985,
          1986,
          1987,
          1988,
          1989,
          1990,
          1991,
          1992,
          1993,
          1994,
          1995,
          1996,
          1997,
          1998,
          1999,
          2000,
          2001,
          2002,
          2003,
          2004,
          2005,
          2006,
          2007,
          2008,
          2009,
          2010,
          2011,
          2012,
          2013,
          2014,
          2015,
          2016,
          2017,
          2018,
          2019,
          2020,
          2021
         ],
         "xaxis": "x",
         "y": [
          95.56,
          95.5,
          94.36,
          93.07,
          92.05,
          91.32,
          91.06,
          88.62,
          88.83,
          87.54,
          87,
          86.74,
          86.54,
          86.12,
          85.85,
          85.63,
          85.46,
          85.39,
          85.05,
          84.51,
          83.9,
          82.72,
          81.3,
          80.01,
          78.63,
          76.94,
          75.63,
          74.34,
          73.33,
          72.99,
          72.19,
          72.16,
          72.18,
          72.58,
          72.65,
          84.66,
          73.07,
          73.7,
          73.43,
          73.79,
          74.46,
          75.48,
          76.41,
          77.42,
          78.5,
          79.24,
          80.03,
          80.6,
          81.46,
          83.06,
          83.33,
          85.12,
          85.62,
          86.46,
          87.53,
          88.43,
          89.09,
          90.19,
          91.25,
          92.51,
          94.17,
          95.99,
          98.14,
          100.82,
          103.69,
          106.67,
          109.38,
          112.23,
          115.42,
          119.34,
          144.4,
          171.16
         ],
         "yaxis": "y"
        },
        {
         "hovertemplate": "variable=DeathGrandTotal<br>Time=%{x}<br>value=%{y}<extra></extra>",
         "legendgroup": "DeathGrandTotal",
         "line": {
          "color": "#00cc96",
          "dash": "solid"
         },
         "marker": {
          "symbol": "circle"
         },
         "mode": "lines",
         "name": "DeathGrandTotal",
         "orientation": "v",
         "showlegend": true,
         "type": "scatter",
         "x": [
          1950,
          1951,
          1952,
          1953,
          1954,
          1955,
          1956,
          1957,
          1958,
          1959,
          1960,
          1961,
          1962,
          1963,
          1964,
          1965,
          1966,
          1967,
          1968,
          1969,
          1970,
          1971,
          1972,
          1973,
          1974,
          1975,
          1976,
          1977,
          1978,
          1979,
          1980,
          1981,
          1982,
          1983,
          1984,
          1985,
          1986,
          1987,
          1988,
          1989,
          1990,
          1991,
          1992,
          1993,
          1994,
          1995,
          1996,
          1997,
          1998,
          1999,
          2000,
          2001,
          2002,
          2003,
          2004,
          2005,
          2006,
          2007,
          2008,
          2009,
          2010,
          2011,
          2012,
          2013,
          2014,
          2015,
          2016,
          2017,
          2018,
          2019,
          2020,
          2021
         ],
         "xaxis": "x",
         "y": [
          205.96,
          205.24,
          202.56,
          199.93,
          198.07,
          196.99,
          196.89,
          190.3,
          191.21,
          187.73,
          186.59,
          186.05,
          185.53,
          184.49,
          184.03,
          183.49,
          182.97,
          182.64,
          181.89,
          180.82,
          179.62,
          177.21,
          174.53,
          172.41,
          169.84,
          167.1,
          165.23,
          163.44,
          162.37,
          162.48,
          161.75,
          162.67,
          163.48,
          165.47,
          167.43,
          191.7,
          173.58,
          178.54,
          182.34,
          186.09,
          190.28,
          193.74,
          196.24,
          197.75,
          199.58,
          200.8,
          202.85,
          204.26,
          206.55,
          209.69,
          209.91,
          213.18,
          212.84,
          212.71,
          213.86,
          214.24,
          214.63,
          216.36,
          216.9,
          217.75,
          220.75,
          224.16,
          228.23,
          233.27,
          238.5,
          243.64,
          248.06,
          252.69,
          260.36,
          270.5,
          335.66,
          397.65
         ],
         "yaxis": "y"
        }
       ],
       "layout": {
        "legend": {
         "title": {
          "text": "variable"
         },
         "tracegroupgap": 0
        },
        "template": {
         "data": {
          "bar": [
           {
            "error_x": {
             "color": "#2a3f5f"
            },
            "error_y": {
             "color": "#2a3f5f"
            },
            "marker": {
             "line": {
              "color": "#E5ECF6",
              "width": 0.5
             },
             "pattern": {
              "fillmode": "overlay",
              "size": 10,
              "solidity": 0.2
             }
            },
            "type": "bar"
           }
          ],
          "barpolar": [
           {
            "marker": {
             "line": {
              "color": "#E5ECF6",
              "width": 0.5
             },
             "pattern": {
              "fillmode": "overlay",
              "size": 10,
              "solidity": 0.2
             }
            },
            "type": "barpolar"
           }
          ],
          "carpet": [
           {
            "aaxis": {
             "endlinecolor": "#2a3f5f",
             "gridcolor": "white",
             "linecolor": "white",
             "minorgridcolor": "white",
             "startlinecolor": "#2a3f5f"
            },
            "baxis": {
             "endlinecolor": "#2a3f5f",
             "gridcolor": "white",
             "linecolor": "white",
             "minorgridcolor": "white",
             "startlinecolor": "#2a3f5f"
            },
            "type": "carpet"
           }
          ],
          "choropleth": [
           {
            "colorbar": {
             "outlinewidth": 0,
             "ticks": ""
            },
            "type": "choropleth"
           }
          ],
          "contour": [
           {
            "colorbar": {
             "outlinewidth": 0,
             "ticks": ""
            },
            "colorscale": [
             [
              0,
              "#0d0887"
             ],
             [
              0.1111111111111111,
              "#46039f"
             ],
             [
              0.2222222222222222,
              "#7201a8"
             ],
             [
              0.3333333333333333,
              "#9c179e"
             ],
             [
              0.4444444444444444,
              "#bd3786"
             ],
             [
              0.5555555555555556,
              "#d8576b"
             ],
             [
              0.6666666666666666,
              "#ed7953"
             ],
             [
              0.7777777777777778,
              "#fb9f3a"
             ],
             [
              0.8888888888888888,
              "#fdca26"
             ],
             [
              1,
              "#f0f921"
             ]
            ],
            "type": "contour"
           }
          ],
          "contourcarpet": [
           {
            "colorbar": {
             "outlinewidth": 0,
             "ticks": ""
            },
            "type": "contourcarpet"
           }
          ],
          "heatmap": [
           {
            "colorbar": {
             "outlinewidth": 0,
             "ticks": ""
            },
            "colorscale": [
             [
              0,
              "#0d0887"
             ],
             [
              0.1111111111111111,
              "#46039f"
             ],
             [
              0.2222222222222222,
              "#7201a8"
             ],
             [
              0.3333333333333333,
              "#9c179e"
             ],
             [
              0.4444444444444444,
              "#bd3786"
             ],
             [
              0.5555555555555556,
              "#d8576b"
             ],
             [
              0.6666666666666666,
              "#ed7953"
             ],
             [
              0.7777777777777778,
              "#fb9f3a"
             ],
             [
              0.8888888888888888,
              "#fdca26"
             ],
             [
              1,
              "#f0f921"
             ]
            ],
            "type": "heatmap"
           }
          ],
          "heatmapgl": [
           {
            "colorbar": {
             "outlinewidth": 0,
             "ticks": ""
            },
            "colorscale": [
             [
              0,
              "#0d0887"
             ],
             [
              0.1111111111111111,
              "#46039f"
             ],
             [
              0.2222222222222222,
              "#7201a8"
             ],
             [
              0.3333333333333333,
              "#9c179e"
             ],
             [
              0.4444444444444444,
              "#bd3786"
             ],
             [
              0.5555555555555556,
              "#d8576b"
             ],
             [
              0.6666666666666666,
              "#ed7953"
             ],
             [
              0.7777777777777778,
              "#fb9f3a"
             ],
             [
              0.8888888888888888,
              "#fdca26"
             ],
             [
              1,
              "#f0f921"
             ]
            ],
            "type": "heatmapgl"
           }
          ],
          "histogram": [
           {
            "marker": {
             "pattern": {
              "fillmode": "overlay",
              "size": 10,
              "solidity": 0.2
             }
            },
            "type": "histogram"
           }
          ],
          "histogram2d": [
           {
            "colorbar": {
             "outlinewidth": 0,
             "ticks": ""
            },
            "colorscale": [
             [
              0,
              "#0d0887"
             ],
             [
              0.1111111111111111,
              "#46039f"
             ],
             [
              0.2222222222222222,
              "#7201a8"
             ],
             [
              0.3333333333333333,
              "#9c179e"
             ],
             [
              0.4444444444444444,
              "#bd3786"
             ],
             [
              0.5555555555555556,
              "#d8576b"
             ],
             [
              0.6666666666666666,
              "#ed7953"
             ],
             [
              0.7777777777777778,
              "#fb9f3a"
             ],
             [
              0.8888888888888888,
              "#fdca26"
             ],
             [
              1,
              "#f0f921"
             ]
            ],
            "type": "histogram2d"
           }
          ],
          "histogram2dcontour": [
           {
            "colorbar": {
             "outlinewidth": 0,
             "ticks": ""
            },
            "colorscale": [
             [
              0,
              "#0d0887"
             ],
             [
              0.1111111111111111,
              "#46039f"
             ],
             [
              0.2222222222222222,
              "#7201a8"
             ],
             [
              0.3333333333333333,
              "#9c179e"
             ],
             [
              0.4444444444444444,
              "#bd3786"
             ],
             [
              0.5555555555555556,
              "#d8576b"
             ],
             [
              0.6666666666666666,
              "#ed7953"
             ],
             [
              0.7777777777777778,
              "#fb9f3a"
             ],
             [
              0.8888888888888888,
              "#fdca26"
             ],
             [
              1,
              "#f0f921"
             ]
            ],
            "type": "histogram2dcontour"
           }
          ],
          "mesh3d": [
           {
            "colorbar": {
             "outlinewidth": 0,
             "ticks": ""
            },
            "type": "mesh3d"
           }
          ],
          "parcoords": [
           {
            "line": {
             "colorbar": {
              "outlinewidth": 0,
              "ticks": ""
             }
            },
            "type": "parcoords"
           }
          ],
          "pie": [
           {
            "automargin": true,
            "type": "pie"
           }
          ],
          "scatter": [
           {
            "fillpattern": {
             "fillmode": "overlay",
             "size": 10,
             "solidity": 0.2
            },
            "type": "scatter"
           }
          ],
          "scatter3d": [
           {
            "line": {
             "colorbar": {
              "outlinewidth": 0,
              "ticks": ""
             }
            },
            "marker": {
             "colorbar": {
              "outlinewidth": 0,
              "ticks": ""
             }
            },
            "type": "scatter3d"
           }
          ],
          "scattercarpet": [
           {
            "marker": {
             "colorbar": {
              "outlinewidth": 0,
              "ticks": ""
             }
            },
            "type": "scattercarpet"
           }
          ],
          "scattergeo": [
           {
            "marker": {
             "colorbar": {
              "outlinewidth": 0,
              "ticks": ""
             }
            },
            "type": "scattergeo"
           }
          ],
          "scattergl": [
           {
            "marker": {
             "colorbar": {
              "outlinewidth": 0,
              "ticks": ""
             }
            },
            "type": "scattergl"
           }
          ],
          "scattermapbox": [
           {
            "marker": {
             "colorbar": {
              "outlinewidth": 0,
              "ticks": ""
             }
            },
            "type": "scattermapbox"
           }
          ],
          "scatterpolar": [
           {
            "marker": {
             "colorbar": {
              "outlinewidth": 0,
              "ticks": ""
             }
            },
            "type": "scatterpolar"
           }
          ],
          "scatterpolargl": [
           {
            "marker": {
             "colorbar": {
              "outlinewidth": 0,
              "ticks": ""
             }
            },
            "type": "scatterpolargl"
           }
          ],
          "scatterternary": [
           {
            "marker": {
             "colorbar": {
              "outlinewidth": 0,
              "ticks": ""
             }
            },
            "type": "scatterternary"
           }
          ],
          "surface": [
           {
            "colorbar": {
             "outlinewidth": 0,
             "ticks": ""
            },
            "colorscale": [
             [
              0,
              "#0d0887"
             ],
             [
              0.1111111111111111,
              "#46039f"
             ],
             [
              0.2222222222222222,
              "#7201a8"
             ],
             [
              0.3333333333333333,
              "#9c179e"
             ],
             [
              0.4444444444444444,
              "#bd3786"
             ],
             [
              0.5555555555555556,
              "#d8576b"
             ],
             [
              0.6666666666666666,
              "#ed7953"
             ],
             [
              0.7777777777777778,
              "#fb9f3a"
             ],
             [
              0.8888888888888888,
              "#fdca26"
             ],
             [
              1,
              "#f0f921"
             ]
            ],
            "type": "surface"
           }
          ],
          "table": [
           {
            "cells": {
             "fill": {
              "color": "#EBF0F8"
             },
             "line": {
              "color": "white"
             }
            },
            "header": {
             "fill": {
              "color": "#C8D4E3"
             },
             "line": {
              "color": "white"
             }
            },
            "type": "table"
           }
          ]
         },
         "layout": {
          "annotationdefaults": {
           "arrowcolor": "#2a3f5f",
           "arrowhead": 0,
           "arrowwidth": 1
          },
          "autotypenumbers": "strict",
          "coloraxis": {
           "colorbar": {
            "outlinewidth": 0,
            "ticks": ""
           }
          },
          "colorscale": {
           "diverging": [
            [
             0,
             "#8e0152"
            ],
            [
             0.1,
             "#c51b7d"
            ],
            [
             0.2,
             "#de77ae"
            ],
            [
             0.3,
             "#f1b6da"
            ],
            [
             0.4,
             "#fde0ef"
            ],
            [
             0.5,
             "#f7f7f7"
            ],
            [
             0.6,
             "#e6f5d0"
            ],
            [
             0.7,
             "#b8e186"
            ],
            [
             0.8,
             "#7fbc41"
            ],
            [
             0.9,
             "#4d9221"
            ],
            [
             1,
             "#276419"
            ]
           ],
           "sequential": [
            [
             0,
             "#0d0887"
            ],
            [
             0.1111111111111111,
             "#46039f"
            ],
            [
             0.2222222222222222,
             "#7201a8"
            ],
            [
             0.3333333333333333,
             "#9c179e"
            ],
            [
             0.4444444444444444,
             "#bd3786"
            ],
            [
             0.5555555555555556,
             "#d8576b"
            ],
            [
             0.6666666666666666,
             "#ed7953"
            ],
            [
             0.7777777777777778,
             "#fb9f3a"
            ],
            [
             0.8888888888888888,
             "#fdca26"
            ],
            [
             1,
             "#f0f921"
            ]
           ],
           "sequentialminus": [
            [
             0,
             "#0d0887"
            ],
            [
             0.1111111111111111,
             "#46039f"
            ],
            [
             0.2222222222222222,
             "#7201a8"
            ],
            [
             0.3333333333333333,
             "#9c179e"
            ],
            [
             0.4444444444444444,
             "#bd3786"
            ],
            [
             0.5555555555555556,
             "#d8576b"
            ],
            [
             0.6666666666666666,
             "#ed7953"
            ],
            [
             0.7777777777777778,
             "#fb9f3a"
            ],
            [
             0.8888888888888888,
             "#fdca26"
            ],
            [
             1,
             "#f0f921"
            ]
           ]
          },
          "colorway": [
           "#636efa",
           "#EF553B",
           "#00cc96",
           "#ab63fa",
           "#FFA15A",
           "#19d3f3",
           "#FF6692",
           "#B6E880",
           "#FF97FF",
           "#FECB52"
          ],
          "font": {
           "color": "#2a3f5f"
          },
          "geo": {
           "bgcolor": "white",
           "lakecolor": "white",
           "landcolor": "#E5ECF6",
           "showlakes": true,
           "showland": true,
           "subunitcolor": "white"
          },
          "hoverlabel": {
           "align": "left"
          },
          "hovermode": "closest",
          "mapbox": {
           "style": "light"
          },
          "paper_bgcolor": "white",
          "plot_bgcolor": "#E5ECF6",
          "polar": {
           "angularaxis": {
            "gridcolor": "white",
            "linecolor": "white",
            "ticks": ""
           },
           "bgcolor": "#E5ECF6",
           "radialaxis": {
            "gridcolor": "white",
            "linecolor": "white",
            "ticks": ""
           }
          },
          "scene": {
           "xaxis": {
            "backgroundcolor": "#E5ECF6",
            "gridcolor": "white",
            "gridwidth": 2,
            "linecolor": "white",
            "showbackground": true,
            "ticks": "",
            "zerolinecolor": "white"
           },
           "yaxis": {
            "backgroundcolor": "#E5ECF6",
            "gridcolor": "white",
            "gridwidth": 2,
            "linecolor": "white",
            "showbackground": true,
            "ticks": "",
            "zerolinecolor": "white"
           },
           "zaxis": {
            "backgroundcolor": "#E5ECF6",
            "gridcolor": "white",
            "gridwidth": 2,
            "linecolor": "white",
            "showbackground": true,
            "ticks": "",
            "zerolinecolor": "white"
           }
          },
          "shapedefaults": {
           "line": {
            "color": "#2a3f5f"
           }
          },
          "ternary": {
           "aaxis": {
            "gridcolor": "white",
            "linecolor": "white",
            "ticks": ""
           },
           "baxis": {
            "gridcolor": "white",
            "linecolor": "white",
            "ticks": ""
           },
           "bgcolor": "#E5ECF6",
           "caxis": {
            "gridcolor": "white",
            "linecolor": "white",
            "ticks": ""
           }
          },
          "title": {
           "x": 0.05
          },
          "xaxis": {
           "automargin": true,
           "gridcolor": "white",
           "linecolor": "white",
           "ticks": "",
           "title": {
            "standoff": 15
           },
           "zerolinecolor": "white",
           "zerolinewidth": 2
          },
          "yaxis": {
           "automargin": true,
           "gridcolor": "white",
           "linecolor": "white",
           "ticks": "",
           "title": {
            "standoff": 15
           },
           "zerolinecolor": "white",
           "zerolinewidth": 2
          }
         }
        },
        "title": {
         "text": "Deaths in Colombia"
        },
        "xaxis": {
         "anchor": "y",
         "domain": [
          0,
          1
         ],
         "title": {
          "text": "Time"
         }
        },
        "yaxis": {
         "anchor": "x",
         "domain": [
          0,
          1
         ],
         "title": {
          "text": "value"
         }
        }
       }
      }
     },
     "metadata": {},
     "output_type": "display_data"
    }
   ],
   "source": [
    "country = input('Enter the country name: ').title()\n",
    "\n",
    "df_past_country_death = df_past_death.groupBy('ISO3_code', 'LocTypeID', 'LocTypeName', 'Location', 'Time')\\\n",
    "                                     .agg(round(sum('DeathMale'), 2).alias('DeathMaleTotal'),\\\n",
    "                                          round(sum('DeathFemale'), 2).alias('DeathFemaleTotal'),\\\n",
    "                                          round(sum('DeathTotal'), 2).alias('DeathGrandTotal'))\\\n",
    "                                     .orderBy('Time', asc=True)\n",
    "df_past_country_death = df_past_country_death.filter(col('Location') == country)\n",
    "df_past_country_death.show()\n",
    "df_past_country_death.printSchema()\n",
    "\n",
    "df_past_pandas_death = df_past_country_death.pandas_api()\n",
    "\n",
    "plot_past_country_death = df_past_pandas_death.plot(x='Time', y=['DeathMaleTotal', 'DeathFemaleTotal', 'DeathGrandTotal'], kind='line', title=f'Deaths in {country}')\n",
    "plot_past_country_death.show()"
   ]
  },
  {
   "cell_type": "code",
   "execution_count": 7,
   "metadata": {},
   "outputs": [
    {
     "name": "stdout",
     "output_type": "stream",
     "text": [
      "+---------+---------+------------+---------+----+--------------+----------------+---------------+\n",
      "|ISO3_code|LocTypeID| LocTypeName| Location|Time|DeathMaleTotal|DeathFemaleTotal|DeathGrandTotal|\n",
      "+---------+---------+------------+---------+----+--------------+----------------+---------------+\n",
      "|      NIC|        4|Country/Area|Nicaragua|2022|         18.11|           14.24|          32.36|\n",
      "|      NIC|        4|Country/Area|Nicaragua|2023|         18.48|           14.56|          33.04|\n",
      "|      NIC|        4|Country/Area|Nicaragua|2024|         18.84|           14.87|          33.72|\n",
      "|      NIC|        4|Country/Area|Nicaragua|2025|         19.21|           15.18|           34.4|\n",
      "|      NIC|        4|Country/Area|Nicaragua|2026|         19.58|           15.53|          35.12|\n",
      "|      NIC|        4|Country/Area|Nicaragua|2027|         19.97|           15.87|          35.84|\n",
      "|      NIC|        4|Country/Area|Nicaragua|2028|         20.36|           16.23|           36.6|\n",
      "|      NIC|        4|Country/Area|Nicaragua|2029|         20.75|           16.62|          37.37|\n",
      "|      NIC|        4|Country/Area|Nicaragua|2030|         21.16|           17.02|          38.18|\n",
      "|      NIC|        4|Country/Area|Nicaragua|2031|         21.59|           17.45|          39.04|\n",
      "|      NIC|        4|Country/Area|Nicaragua|2032|         22.04|           17.89|          39.92|\n",
      "|      NIC|        4|Country/Area|Nicaragua|2033|          22.5|           18.36|          40.85|\n",
      "|      NIC|        4|Country/Area|Nicaragua|2034|         22.94|           18.87|          41.81|\n",
      "|      NIC|        4|Country/Area|Nicaragua|2035|         23.43|           19.38|          42.82|\n",
      "|      NIC|        4|Country/Area|Nicaragua|2036|         23.95|           19.92|          43.87|\n",
      "|      NIC|        4|Country/Area|Nicaragua|2037|         24.46|           20.46|          44.92|\n",
      "|      NIC|        4|Country/Area|Nicaragua|2038|         24.98|           21.03|           46.0|\n",
      "|      NIC|        4|Country/Area|Nicaragua|2039|         25.49|           21.57|          47.06|\n",
      "|      NIC|        4|Country/Area|Nicaragua|2040|         26.01|           22.13|          48.14|\n",
      "|      NIC|        4|Country/Area|Nicaragua|2041|         26.53|           22.73|          49.26|\n",
      "+---------+---------+------------+---------+----+--------------+----------------+---------------+\n",
      "only showing top 20 rows\n",
      "\n",
      "root\n",
      " |-- ISO3_code: string (nullable = true)\n",
      " |-- LocTypeID: string (nullable = true)\n",
      " |-- LocTypeName: string (nullable = true)\n",
      " |-- Location: string (nullable = true)\n",
      " |-- Time: integer (nullable = true)\n",
      " |-- DeathMaleTotal: double (nullable = true)\n",
      " |-- DeathFemaleTotal: double (nullable = true)\n",
      " |-- DeathGrandTotal: double (nullable = true)\n",
      "\n"
     ]
    },
    {
     "data": {
      "application/vnd.plotly.v1+json": {
       "config": {
        "plotlyServerURL": "https://plot.ly"
       },
       "data": [
        {
         "hovertemplate": "variable=DeathMaleTotal<br>Time=%{x}<br>value=%{y}<extra></extra>",
         "legendgroup": "DeathMaleTotal",
         "line": {
          "color": "#636efa",
          "dash": "solid"
         },
         "marker": {
          "symbol": "circle"
         },
         "mode": "lines",
         "name": "DeathMaleTotal",
         "orientation": "v",
         "showlegend": true,
         "type": "scatter",
         "x": [
          2022,
          2023,
          2024,
          2025,
          2026,
          2027,
          2028,
          2029,
          2030,
          2031,
          2032,
          2033,
          2034,
          2035,
          2036,
          2037,
          2038,
          2039,
          2040,
          2041,
          2042,
          2043,
          2044,
          2045,
          2046,
          2047,
          2048,
          2049,
          2050,
          2051,
          2052,
          2053,
          2054,
          2055,
          2056,
          2057,
          2058,
          2059,
          2060,
          2061,
          2062,
          2063,
          2064,
          2065,
          2066,
          2067,
          2068,
          2069,
          2070,
          2071,
          2072,
          2073,
          2074,
          2075,
          2076,
          2077,
          2078,
          2079,
          2080,
          2081,
          2082,
          2083,
          2084,
          2085,
          2086,
          2087,
          2088,
          2089,
          2090,
          2091,
          2092,
          2093,
          2094,
          2095,
          2096,
          2097,
          2098,
          2099,
          2100
         ],
         "xaxis": "x",
         "y": [
          18.11,
          18.48,
          18.84,
          19.21,
          19.58,
          19.97,
          20.36,
          20.75,
          21.16,
          21.59,
          22.04,
          22.5,
          22.94,
          23.43,
          23.95,
          24.46,
          24.98,
          25.49,
          26.01,
          26.53,
          27.07,
          27.62,
          28.18,
          28.75,
          29.33,
          29.91,
          30.51,
          31.1,
          31.71,
          32.35,
          32.98,
          33.64,
          34.29,
          34.92,
          35.56,
          36.2,
          36.84,
          37.48,
          38.11,
          38.72,
          39.33,
          39.95,
          40.54,
          41.12,
          41.76,
          42.38,
          42.99,
          43.57,
          44.19,
          44.8,
          45.41,
          46.03,
          46.67,
          47.33,
          47.96,
          48.59,
          49.19,
          49.76,
          50.25,
          50.79,
          51.29,
          51.7,
          52.06,
          52.41,
          52.7,
          53.02,
          53.3,
          53.5,
          53.74,
          53.98,
          54.17,
          54.34,
          54.52,
          54.72,
          54.86,
          55.02,
          55.21,
          55.4,
          55.57
         ],
         "yaxis": "y"
        },
        {
         "hovertemplate": "variable=DeathFemaleTotal<br>Time=%{x}<br>value=%{y}<extra></extra>",
         "legendgroup": "DeathFemaleTotal",
         "line": {
          "color": "#EF553B",
          "dash": "solid"
         },
         "marker": {
          "symbol": "circle"
         },
         "mode": "lines",
         "name": "DeathFemaleTotal",
         "orientation": "v",
         "showlegend": true,
         "type": "scatter",
         "x": [
          2022,
          2023,
          2024,
          2025,
          2026,
          2027,
          2028,
          2029,
          2030,
          2031,
          2032,
          2033,
          2034,
          2035,
          2036,
          2037,
          2038,
          2039,
          2040,
          2041,
          2042,
          2043,
          2044,
          2045,
          2046,
          2047,
          2048,
          2049,
          2050,
          2051,
          2052,
          2053,
          2054,
          2055,
          2056,
          2057,
          2058,
          2059,
          2060,
          2061,
          2062,
          2063,
          2064,
          2065,
          2066,
          2067,
          2068,
          2069,
          2070,
          2071,
          2072,
          2073,
          2074,
          2075,
          2076,
          2077,
          2078,
          2079,
          2080,
          2081,
          2082,
          2083,
          2084,
          2085,
          2086,
          2087,
          2088,
          2089,
          2090,
          2091,
          2092,
          2093,
          2094,
          2095,
          2096,
          2097,
          2098,
          2099,
          2100
         ],
         "xaxis": "x",
         "y": [
          14.24,
          14.56,
          14.87,
          15.18,
          15.53,
          15.87,
          16.23,
          16.62,
          17.02,
          17.45,
          17.89,
          18.36,
          18.87,
          19.38,
          19.92,
          20.46,
          21.03,
          21.57,
          22.13,
          22.73,
          23.32,
          23.92,
          24.55,
          25.17,
          25.82,
          26.46,
          27.14,
          27.85,
          28.56,
          29.27,
          30.01,
          30.77,
          31.55,
          32.33,
          33.13,
          33.91,
          34.76,
          35.61,
          36.47,
          37.31,
          38.13,
          39.01,
          39.85,
          40.67,
          41.51,
          42.36,
          43.15,
          43.95,
          44.79,
          45.53,
          46.32,
          47.05,
          47.78,
          48.51,
          49.16,
          49.81,
          50.44,
          51.03,
          51.56,
          51.98,
          52.43,
          52.83,
          53.19,
          53.51,
          53.74,
          54,
          54.24,
          54.37,
          54.53,
          54.6,
          54.76,
          54.87,
          54.94,
          55.01,
          55.14,
          55.28,
          55.36,
          55.43,
          55.5
         ],
         "yaxis": "y"
        },
        {
         "hovertemplate": "variable=DeathGrandTotal<br>Time=%{x}<br>value=%{y}<extra></extra>",
         "legendgroup": "DeathGrandTotal",
         "line": {
          "color": "#00cc96",
          "dash": "solid"
         },
         "marker": {
          "symbol": "circle"
         },
         "mode": "lines",
         "name": "DeathGrandTotal",
         "orientation": "v",
         "showlegend": true,
         "type": "scatter",
         "x": [
          2022,
          2023,
          2024,
          2025,
          2026,
          2027,
          2028,
          2029,
          2030,
          2031,
          2032,
          2033,
          2034,
          2035,
          2036,
          2037,
          2038,
          2039,
          2040,
          2041,
          2042,
          2043,
          2044,
          2045,
          2046,
          2047,
          2048,
          2049,
          2050,
          2051,
          2052,
          2053,
          2054,
          2055,
          2056,
          2057,
          2058,
          2059,
          2060,
          2061,
          2062,
          2063,
          2064,
          2065,
          2066,
          2067,
          2068,
          2069,
          2070,
          2071,
          2072,
          2073,
          2074,
          2075,
          2076,
          2077,
          2078,
          2079,
          2080,
          2081,
          2082,
          2083,
          2084,
          2085,
          2086,
          2087,
          2088,
          2089,
          2090,
          2091,
          2092,
          2093,
          2094,
          2095,
          2096,
          2097,
          2098,
          2099,
          2100
         ],
         "xaxis": "x",
         "y": [
          32.36,
          33.04,
          33.72,
          34.4,
          35.12,
          35.84,
          36.6,
          37.37,
          38.18,
          39.04,
          39.92,
          40.85,
          41.81,
          42.82,
          43.87,
          44.92,
          46,
          47.06,
          48.14,
          49.26,
          50.39,
          51.55,
          52.73,
          53.92,
          55.14,
          56.37,
          57.64,
          58.94,
          60.27,
          61.6,
          62.98,
          64.42,
          65.83,
          67.26,
          68.69,
          70.11,
          71.6,
          73.09,
          74.58,
          76.03,
          77.46,
          78.97,
          80.39,
          81.8,
          83.28,
          84.74,
          86.14,
          87.52,
          88.97,
          90.32,
          91.73,
          93.09,
          94.45,
          95.84,
          97.12,
          98.4,
          99.63,
          100.79,
          101.81,
          102.77,
          103.73,
          104.53,
          105.25,
          105.92,
          106.44,
          107.01,
          107.53,
          107.88,
          108.27,
          108.58,
          108.93,
          109.21,
          109.46,
          109.73,
          110,
          110.31,
          110.58,
          110.82,
          111.08
         ],
         "yaxis": "y"
        }
       ],
       "layout": {
        "legend": {
         "title": {
          "text": "variable"
         },
         "tracegroupgap": 0
        },
        "template": {
         "data": {
          "bar": [
           {
            "error_x": {
             "color": "#2a3f5f"
            },
            "error_y": {
             "color": "#2a3f5f"
            },
            "marker": {
             "line": {
              "color": "#E5ECF6",
              "width": 0.5
             },
             "pattern": {
              "fillmode": "overlay",
              "size": 10,
              "solidity": 0.2
             }
            },
            "type": "bar"
           }
          ],
          "barpolar": [
           {
            "marker": {
             "line": {
              "color": "#E5ECF6",
              "width": 0.5
             },
             "pattern": {
              "fillmode": "overlay",
              "size": 10,
              "solidity": 0.2
             }
            },
            "type": "barpolar"
           }
          ],
          "carpet": [
           {
            "aaxis": {
             "endlinecolor": "#2a3f5f",
             "gridcolor": "white",
             "linecolor": "white",
             "minorgridcolor": "white",
             "startlinecolor": "#2a3f5f"
            },
            "baxis": {
             "endlinecolor": "#2a3f5f",
             "gridcolor": "white",
             "linecolor": "white",
             "minorgridcolor": "white",
             "startlinecolor": "#2a3f5f"
            },
            "type": "carpet"
           }
          ],
          "choropleth": [
           {
            "colorbar": {
             "outlinewidth": 0,
             "ticks": ""
            },
            "type": "choropleth"
           }
          ],
          "contour": [
           {
            "colorbar": {
             "outlinewidth": 0,
             "ticks": ""
            },
            "colorscale": [
             [
              0,
              "#0d0887"
             ],
             [
              0.1111111111111111,
              "#46039f"
             ],
             [
              0.2222222222222222,
              "#7201a8"
             ],
             [
              0.3333333333333333,
              "#9c179e"
             ],
             [
              0.4444444444444444,
              "#bd3786"
             ],
             [
              0.5555555555555556,
              "#d8576b"
             ],
             [
              0.6666666666666666,
              "#ed7953"
             ],
             [
              0.7777777777777778,
              "#fb9f3a"
             ],
             [
              0.8888888888888888,
              "#fdca26"
             ],
             [
              1,
              "#f0f921"
             ]
            ],
            "type": "contour"
           }
          ],
          "contourcarpet": [
           {
            "colorbar": {
             "outlinewidth": 0,
             "ticks": ""
            },
            "type": "contourcarpet"
           }
          ],
          "heatmap": [
           {
            "colorbar": {
             "outlinewidth": 0,
             "ticks": ""
            },
            "colorscale": [
             [
              0,
              "#0d0887"
             ],
             [
              0.1111111111111111,
              "#46039f"
             ],
             [
              0.2222222222222222,
              "#7201a8"
             ],
             [
              0.3333333333333333,
              "#9c179e"
             ],
             [
              0.4444444444444444,
              "#bd3786"
             ],
             [
              0.5555555555555556,
              "#d8576b"
             ],
             [
              0.6666666666666666,
              "#ed7953"
             ],
             [
              0.7777777777777778,
              "#fb9f3a"
             ],
             [
              0.8888888888888888,
              "#fdca26"
             ],
             [
              1,
              "#f0f921"
             ]
            ],
            "type": "heatmap"
           }
          ],
          "heatmapgl": [
           {
            "colorbar": {
             "outlinewidth": 0,
             "ticks": ""
            },
            "colorscale": [
             [
              0,
              "#0d0887"
             ],
             [
              0.1111111111111111,
              "#46039f"
             ],
             [
              0.2222222222222222,
              "#7201a8"
             ],
             [
              0.3333333333333333,
              "#9c179e"
             ],
             [
              0.4444444444444444,
              "#bd3786"
             ],
             [
              0.5555555555555556,
              "#d8576b"
             ],
             [
              0.6666666666666666,
              "#ed7953"
             ],
             [
              0.7777777777777778,
              "#fb9f3a"
             ],
             [
              0.8888888888888888,
              "#fdca26"
             ],
             [
              1,
              "#f0f921"
             ]
            ],
            "type": "heatmapgl"
           }
          ],
          "histogram": [
           {
            "marker": {
             "pattern": {
              "fillmode": "overlay",
              "size": 10,
              "solidity": 0.2
             }
            },
            "type": "histogram"
           }
          ],
          "histogram2d": [
           {
            "colorbar": {
             "outlinewidth": 0,
             "ticks": ""
            },
            "colorscale": [
             [
              0,
              "#0d0887"
             ],
             [
              0.1111111111111111,
              "#46039f"
             ],
             [
              0.2222222222222222,
              "#7201a8"
             ],
             [
              0.3333333333333333,
              "#9c179e"
             ],
             [
              0.4444444444444444,
              "#bd3786"
             ],
             [
              0.5555555555555556,
              "#d8576b"
             ],
             [
              0.6666666666666666,
              "#ed7953"
             ],
             [
              0.7777777777777778,
              "#fb9f3a"
             ],
             [
              0.8888888888888888,
              "#fdca26"
             ],
             [
              1,
              "#f0f921"
             ]
            ],
            "type": "histogram2d"
           }
          ],
          "histogram2dcontour": [
           {
            "colorbar": {
             "outlinewidth": 0,
             "ticks": ""
            },
            "colorscale": [
             [
              0,
              "#0d0887"
             ],
             [
              0.1111111111111111,
              "#46039f"
             ],
             [
              0.2222222222222222,
              "#7201a8"
             ],
             [
              0.3333333333333333,
              "#9c179e"
             ],
             [
              0.4444444444444444,
              "#bd3786"
             ],
             [
              0.5555555555555556,
              "#d8576b"
             ],
             [
              0.6666666666666666,
              "#ed7953"
             ],
             [
              0.7777777777777778,
              "#fb9f3a"
             ],
             [
              0.8888888888888888,
              "#fdca26"
             ],
             [
              1,
              "#f0f921"
             ]
            ],
            "type": "histogram2dcontour"
           }
          ],
          "mesh3d": [
           {
            "colorbar": {
             "outlinewidth": 0,
             "ticks": ""
            },
            "type": "mesh3d"
           }
          ],
          "parcoords": [
           {
            "line": {
             "colorbar": {
              "outlinewidth": 0,
              "ticks": ""
             }
            },
            "type": "parcoords"
           }
          ],
          "pie": [
           {
            "automargin": true,
            "type": "pie"
           }
          ],
          "scatter": [
           {
            "fillpattern": {
             "fillmode": "overlay",
             "size": 10,
             "solidity": 0.2
            },
            "type": "scatter"
           }
          ],
          "scatter3d": [
           {
            "line": {
             "colorbar": {
              "outlinewidth": 0,
              "ticks": ""
             }
            },
            "marker": {
             "colorbar": {
              "outlinewidth": 0,
              "ticks": ""
             }
            },
            "type": "scatter3d"
           }
          ],
          "scattercarpet": [
           {
            "marker": {
             "colorbar": {
              "outlinewidth": 0,
              "ticks": ""
             }
            },
            "type": "scattercarpet"
           }
          ],
          "scattergeo": [
           {
            "marker": {
             "colorbar": {
              "outlinewidth": 0,
              "ticks": ""
             }
            },
            "type": "scattergeo"
           }
          ],
          "scattergl": [
           {
            "marker": {
             "colorbar": {
              "outlinewidth": 0,
              "ticks": ""
             }
            },
            "type": "scattergl"
           }
          ],
          "scattermapbox": [
           {
            "marker": {
             "colorbar": {
              "outlinewidth": 0,
              "ticks": ""
             }
            },
            "type": "scattermapbox"
           }
          ],
          "scatterpolar": [
           {
            "marker": {
             "colorbar": {
              "outlinewidth": 0,
              "ticks": ""
             }
            },
            "type": "scatterpolar"
           }
          ],
          "scatterpolargl": [
           {
            "marker": {
             "colorbar": {
              "outlinewidth": 0,
              "ticks": ""
             }
            },
            "type": "scatterpolargl"
           }
          ],
          "scatterternary": [
           {
            "marker": {
             "colorbar": {
              "outlinewidth": 0,
              "ticks": ""
             }
            },
            "type": "scatterternary"
           }
          ],
          "surface": [
           {
            "colorbar": {
             "outlinewidth": 0,
             "ticks": ""
            },
            "colorscale": [
             [
              0,
              "#0d0887"
             ],
             [
              0.1111111111111111,
              "#46039f"
             ],
             [
              0.2222222222222222,
              "#7201a8"
             ],
             [
              0.3333333333333333,
              "#9c179e"
             ],
             [
              0.4444444444444444,
              "#bd3786"
             ],
             [
              0.5555555555555556,
              "#d8576b"
             ],
             [
              0.6666666666666666,
              "#ed7953"
             ],
             [
              0.7777777777777778,
              "#fb9f3a"
             ],
             [
              0.8888888888888888,
              "#fdca26"
             ],
             [
              1,
              "#f0f921"
             ]
            ],
            "type": "surface"
           }
          ],
          "table": [
           {
            "cells": {
             "fill": {
              "color": "#EBF0F8"
             },
             "line": {
              "color": "white"
             }
            },
            "header": {
             "fill": {
              "color": "#C8D4E3"
             },
             "line": {
              "color": "white"
             }
            },
            "type": "table"
           }
          ]
         },
         "layout": {
          "annotationdefaults": {
           "arrowcolor": "#2a3f5f",
           "arrowhead": 0,
           "arrowwidth": 1
          },
          "autotypenumbers": "strict",
          "coloraxis": {
           "colorbar": {
            "outlinewidth": 0,
            "ticks": ""
           }
          },
          "colorscale": {
           "diverging": [
            [
             0,
             "#8e0152"
            ],
            [
             0.1,
             "#c51b7d"
            ],
            [
             0.2,
             "#de77ae"
            ],
            [
             0.3,
             "#f1b6da"
            ],
            [
             0.4,
             "#fde0ef"
            ],
            [
             0.5,
             "#f7f7f7"
            ],
            [
             0.6,
             "#e6f5d0"
            ],
            [
             0.7,
             "#b8e186"
            ],
            [
             0.8,
             "#7fbc41"
            ],
            [
             0.9,
             "#4d9221"
            ],
            [
             1,
             "#276419"
            ]
           ],
           "sequential": [
            [
             0,
             "#0d0887"
            ],
            [
             0.1111111111111111,
             "#46039f"
            ],
            [
             0.2222222222222222,
             "#7201a8"
            ],
            [
             0.3333333333333333,
             "#9c179e"
            ],
            [
             0.4444444444444444,
             "#bd3786"
            ],
            [
             0.5555555555555556,
             "#d8576b"
            ],
            [
             0.6666666666666666,
             "#ed7953"
            ],
            [
             0.7777777777777778,
             "#fb9f3a"
            ],
            [
             0.8888888888888888,
             "#fdca26"
            ],
            [
             1,
             "#f0f921"
            ]
           ],
           "sequentialminus": [
            [
             0,
             "#0d0887"
            ],
            [
             0.1111111111111111,
             "#46039f"
            ],
            [
             0.2222222222222222,
             "#7201a8"
            ],
            [
             0.3333333333333333,
             "#9c179e"
            ],
            [
             0.4444444444444444,
             "#bd3786"
            ],
            [
             0.5555555555555556,
             "#d8576b"
            ],
            [
             0.6666666666666666,
             "#ed7953"
            ],
            [
             0.7777777777777778,
             "#fb9f3a"
            ],
            [
             0.8888888888888888,
             "#fdca26"
            ],
            [
             1,
             "#f0f921"
            ]
           ]
          },
          "colorway": [
           "#636efa",
           "#EF553B",
           "#00cc96",
           "#ab63fa",
           "#FFA15A",
           "#19d3f3",
           "#FF6692",
           "#B6E880",
           "#FF97FF",
           "#FECB52"
          ],
          "font": {
           "color": "#2a3f5f"
          },
          "geo": {
           "bgcolor": "white",
           "lakecolor": "white",
           "landcolor": "#E5ECF6",
           "showlakes": true,
           "showland": true,
           "subunitcolor": "white"
          },
          "hoverlabel": {
           "align": "left"
          },
          "hovermode": "closest",
          "mapbox": {
           "style": "light"
          },
          "paper_bgcolor": "white",
          "plot_bgcolor": "#E5ECF6",
          "polar": {
           "angularaxis": {
            "gridcolor": "white",
            "linecolor": "white",
            "ticks": ""
           },
           "bgcolor": "#E5ECF6",
           "radialaxis": {
            "gridcolor": "white",
            "linecolor": "white",
            "ticks": ""
           }
          },
          "scene": {
           "xaxis": {
            "backgroundcolor": "#E5ECF6",
            "gridcolor": "white",
            "gridwidth": 2,
            "linecolor": "white",
            "showbackground": true,
            "ticks": "",
            "zerolinecolor": "white"
           },
           "yaxis": {
            "backgroundcolor": "#E5ECF6",
            "gridcolor": "white",
            "gridwidth": 2,
            "linecolor": "white",
            "showbackground": true,
            "ticks": "",
            "zerolinecolor": "white"
           },
           "zaxis": {
            "backgroundcolor": "#E5ECF6",
            "gridcolor": "white",
            "gridwidth": 2,
            "linecolor": "white",
            "showbackground": true,
            "ticks": "",
            "zerolinecolor": "white"
           }
          },
          "shapedefaults": {
           "line": {
            "color": "#2a3f5f"
           }
          },
          "ternary": {
           "aaxis": {
            "gridcolor": "white",
            "linecolor": "white",
            "ticks": ""
           },
           "baxis": {
            "gridcolor": "white",
            "linecolor": "white",
            "ticks": ""
           },
           "bgcolor": "#E5ECF6",
           "caxis": {
            "gridcolor": "white",
            "linecolor": "white",
            "ticks": ""
           }
          },
          "title": {
           "x": 0.05
          },
          "xaxis": {
           "automargin": true,
           "gridcolor": "white",
           "linecolor": "white",
           "ticks": "",
           "title": {
            "standoff": 15
           },
           "zerolinecolor": "white",
           "zerolinewidth": 2
          },
          "yaxis": {
           "automargin": true,
           "gridcolor": "white",
           "linecolor": "white",
           "ticks": "",
           "title": {
            "standoff": 15
           },
           "zerolinecolor": "white",
           "zerolinewidth": 2
          }
         }
        },
        "title": {
         "text": "Deaths in Nicaragua"
        },
        "xaxis": {
         "anchor": "y",
         "domain": [
          0,
          1
         ],
         "title": {
          "text": "Time"
         }
        },
        "yaxis": {
         "anchor": "x",
         "domain": [
          0,
          1
         ],
         "title": {
          "text": "value"
         }
        }
       }
      }
     },
     "metadata": {},
     "output_type": "display_data"
    }
   ],
   "source": [
    "country = input('Enter the country name: ').title()\n",
    "\n",
    "df_future_country_death = df_future_death.groupBy('ISO3_code', 'LocTypeID', 'LocTypeName', 'Location', 'Time')\\\n",
    "                                         .agg(round(sum('DeathMale'), 2).alias('DeathMaleTotal'),\\\n",
    "                                              round(sum('DeathFemale'), 2).alias('DeathFemaleTotal'),\\\n",
    "                                              round(sum('DeathTotal'), 2).alias('DeathGrandTotal'))\\\n",
    "                                             .orderBy('Time', asc=True)\n",
    "df_future_country_death = df_future_country_death.filter(col('Location') == country)\n",
    "df_future_country_death.show()\n",
    "df_future_country_death.printSchema()\n",
    "\n",
    "df_future_pandas_death = df_future_country_death.pandas_api()\n",
    "\n",
    "plot_future_country_death = df_future_pandas_death.plot(x='Time', y=['DeathMaleTotal', 'DeathFemaleTotal', 'DeathGrandTotal'], kind='line', title=f'Deaths in {country}')\n",
    "plot_future_country_death.show()"
   ]
  },
  {
   "cell_type": "code",
   "execution_count": 13,
   "metadata": {},
   "outputs": [
    {
     "name": "stdout",
     "output_type": "stream",
     "text": [
      "+----+------+--------+---------+\n",
      "|Time|AgeGrp|Colombia|Guatemala|\n",
      "+----+------+--------+---------+\n",
      "|2030| 10-14|    47.2|    20.39|\n",
      "|2030| 15-19|  890.42|    506.2|\n",
      "|2030| 20-24| 1479.64|   940.16|\n",
      "|2030| 25-29|  1597.8|   883.59|\n",
      "|2030| 30-34| 1208.37|   635.38|\n",
      "|2030| 35-39|  727.56|   335.13|\n",
      "|2030| 40-44|  272.02|   114.25|\n",
      "|2030| 45-49|    38.3|    15.78|\n",
      "|2030| 50-54|    2.12|     0.78|\n",
      "+----+------+--------+---------+\n",
      "\n",
      "root\n",
      " |-- Time: integer (nullable = true)\n",
      " |-- AgeGrp: string (nullable = true)\n",
      " |-- Colombia: double (nullable = true)\n",
      " |-- Guatemala: double (nullable = true)\n",
      "\n"
     ]
    },
    {
     "name": "stderr",
     "output_type": "stream",
     "text": [
      "c:\\Users\\DANIEL\\.conda\\envs\\DANIELO_ENV\\Lib\\site-packages\\pyspark\\pandas\\utils.py:975: PandasAPIOnSparkAdviceWarning:\n",
      "\n",
      "`to_pandas` loads all data into the driver's memory. It should only be used if the resulting pandas DataFrame is expected to be small.\n",
      "\n"
     ]
    },
    {
     "data": {
      "application/vnd.plotly.v1+json": {
       "config": {
        "plotlyServerURL": "https://plot.ly"
       },
       "data": [
        {
         "alignmentgroup": "True",
         "hovertemplate": "Country=Colombia<br>Age Group=%{x}<br>Births=%{y}<extra></extra>",
         "legendgroup": "Colombia",
         "marker": {
          "color": "#636efa",
          "pattern": {
           "shape": ""
          }
         },
         "name": "Colombia",
         "offsetgroup": "Colombia",
         "orientation": "v",
         "showlegend": true,
         "textposition": "auto",
         "type": "bar",
         "x": [
          "10-14",
          "15-19",
          "20-24",
          "25-29",
          "30-34",
          "35-39",
          "40-44",
          "45-49",
          "50-54"
         ],
         "xaxis": "x",
         "y": [
          47.2,
          890.42,
          1479.64,
          1597.8,
          1208.37,
          727.56,
          272.02,
          38.3,
          2.12
         ],
         "yaxis": "y"
        },
        {
         "alignmentgroup": "True",
         "hovertemplate": "Country=Guatemala<br>Age Group=%{x}<br>Births=%{y}<extra></extra>",
         "legendgroup": "Guatemala",
         "marker": {
          "color": "#EF553B",
          "pattern": {
           "shape": ""
          }
         },
         "name": "Guatemala",
         "offsetgroup": "Guatemala",
         "orientation": "v",
         "showlegend": true,
         "textposition": "auto",
         "type": "bar",
         "x": [
          "10-14",
          "15-19",
          "20-24",
          "25-29",
          "30-34",
          "35-39",
          "40-44",
          "45-49",
          "50-54"
         ],
         "xaxis": "x",
         "y": [
          20.39,
          506.2,
          940.16,
          883.59,
          635.38,
          335.13,
          114.25,
          15.78,
          0.78
         ],
         "yaxis": "y"
        }
       ],
       "layout": {
        "barmode": "group",
        "legend": {
         "title": {
          "text": "Country"
         },
         "tracegroupgap": 0
        },
        "template": {
         "data": {
          "bar": [
           {
            "error_x": {
             "color": "#2a3f5f"
            },
            "error_y": {
             "color": "#2a3f5f"
            },
            "marker": {
             "line": {
              "color": "#E5ECF6",
              "width": 0.5
             },
             "pattern": {
              "fillmode": "overlay",
              "size": 10,
              "solidity": 0.2
             }
            },
            "type": "bar"
           }
          ],
          "barpolar": [
           {
            "marker": {
             "line": {
              "color": "#E5ECF6",
              "width": 0.5
             },
             "pattern": {
              "fillmode": "overlay",
              "size": 10,
              "solidity": 0.2
             }
            },
            "type": "barpolar"
           }
          ],
          "carpet": [
           {
            "aaxis": {
             "endlinecolor": "#2a3f5f",
             "gridcolor": "white",
             "linecolor": "white",
             "minorgridcolor": "white",
             "startlinecolor": "#2a3f5f"
            },
            "baxis": {
             "endlinecolor": "#2a3f5f",
             "gridcolor": "white",
             "linecolor": "white",
             "minorgridcolor": "white",
             "startlinecolor": "#2a3f5f"
            },
            "type": "carpet"
           }
          ],
          "choropleth": [
           {
            "colorbar": {
             "outlinewidth": 0,
             "ticks": ""
            },
            "type": "choropleth"
           }
          ],
          "contour": [
           {
            "colorbar": {
             "outlinewidth": 0,
             "ticks": ""
            },
            "colorscale": [
             [
              0,
              "#0d0887"
             ],
             [
              0.1111111111111111,
              "#46039f"
             ],
             [
              0.2222222222222222,
              "#7201a8"
             ],
             [
              0.3333333333333333,
              "#9c179e"
             ],
             [
              0.4444444444444444,
              "#bd3786"
             ],
             [
              0.5555555555555556,
              "#d8576b"
             ],
             [
              0.6666666666666666,
              "#ed7953"
             ],
             [
              0.7777777777777778,
              "#fb9f3a"
             ],
             [
              0.8888888888888888,
              "#fdca26"
             ],
             [
              1,
              "#f0f921"
             ]
            ],
            "type": "contour"
           }
          ],
          "contourcarpet": [
           {
            "colorbar": {
             "outlinewidth": 0,
             "ticks": ""
            },
            "type": "contourcarpet"
           }
          ],
          "heatmap": [
           {
            "colorbar": {
             "outlinewidth": 0,
             "ticks": ""
            },
            "colorscale": [
             [
              0,
              "#0d0887"
             ],
             [
              0.1111111111111111,
              "#46039f"
             ],
             [
              0.2222222222222222,
              "#7201a8"
             ],
             [
              0.3333333333333333,
              "#9c179e"
             ],
             [
              0.4444444444444444,
              "#bd3786"
             ],
             [
              0.5555555555555556,
              "#d8576b"
             ],
             [
              0.6666666666666666,
              "#ed7953"
             ],
             [
              0.7777777777777778,
              "#fb9f3a"
             ],
             [
              0.8888888888888888,
              "#fdca26"
             ],
             [
              1,
              "#f0f921"
             ]
            ],
            "type": "heatmap"
           }
          ],
          "heatmapgl": [
           {
            "colorbar": {
             "outlinewidth": 0,
             "ticks": ""
            },
            "colorscale": [
             [
              0,
              "#0d0887"
             ],
             [
              0.1111111111111111,
              "#46039f"
             ],
             [
              0.2222222222222222,
              "#7201a8"
             ],
             [
              0.3333333333333333,
              "#9c179e"
             ],
             [
              0.4444444444444444,
              "#bd3786"
             ],
             [
              0.5555555555555556,
              "#d8576b"
             ],
             [
              0.6666666666666666,
              "#ed7953"
             ],
             [
              0.7777777777777778,
              "#fb9f3a"
             ],
             [
              0.8888888888888888,
              "#fdca26"
             ],
             [
              1,
              "#f0f921"
             ]
            ],
            "type": "heatmapgl"
           }
          ],
          "histogram": [
           {
            "marker": {
             "pattern": {
              "fillmode": "overlay",
              "size": 10,
              "solidity": 0.2
             }
            },
            "type": "histogram"
           }
          ],
          "histogram2d": [
           {
            "colorbar": {
             "outlinewidth": 0,
             "ticks": ""
            },
            "colorscale": [
             [
              0,
              "#0d0887"
             ],
             [
              0.1111111111111111,
              "#46039f"
             ],
             [
              0.2222222222222222,
              "#7201a8"
             ],
             [
              0.3333333333333333,
              "#9c179e"
             ],
             [
              0.4444444444444444,
              "#bd3786"
             ],
             [
              0.5555555555555556,
              "#d8576b"
             ],
             [
              0.6666666666666666,
              "#ed7953"
             ],
             [
              0.7777777777777778,
              "#fb9f3a"
             ],
             [
              0.8888888888888888,
              "#fdca26"
             ],
             [
              1,
              "#f0f921"
             ]
            ],
            "type": "histogram2d"
           }
          ],
          "histogram2dcontour": [
           {
            "colorbar": {
             "outlinewidth": 0,
             "ticks": ""
            },
            "colorscale": [
             [
              0,
              "#0d0887"
             ],
             [
              0.1111111111111111,
              "#46039f"
             ],
             [
              0.2222222222222222,
              "#7201a8"
             ],
             [
              0.3333333333333333,
              "#9c179e"
             ],
             [
              0.4444444444444444,
              "#bd3786"
             ],
             [
              0.5555555555555556,
              "#d8576b"
             ],
             [
              0.6666666666666666,
              "#ed7953"
             ],
             [
              0.7777777777777778,
              "#fb9f3a"
             ],
             [
              0.8888888888888888,
              "#fdca26"
             ],
             [
              1,
              "#f0f921"
             ]
            ],
            "type": "histogram2dcontour"
           }
          ],
          "mesh3d": [
           {
            "colorbar": {
             "outlinewidth": 0,
             "ticks": ""
            },
            "type": "mesh3d"
           }
          ],
          "parcoords": [
           {
            "line": {
             "colorbar": {
              "outlinewidth": 0,
              "ticks": ""
             }
            },
            "type": "parcoords"
           }
          ],
          "pie": [
           {
            "automargin": true,
            "type": "pie"
           }
          ],
          "scatter": [
           {
            "fillpattern": {
             "fillmode": "overlay",
             "size": 10,
             "solidity": 0.2
            },
            "type": "scatter"
           }
          ],
          "scatter3d": [
           {
            "line": {
             "colorbar": {
              "outlinewidth": 0,
              "ticks": ""
             }
            },
            "marker": {
             "colorbar": {
              "outlinewidth": 0,
              "ticks": ""
             }
            },
            "type": "scatter3d"
           }
          ],
          "scattercarpet": [
           {
            "marker": {
             "colorbar": {
              "outlinewidth": 0,
              "ticks": ""
             }
            },
            "type": "scattercarpet"
           }
          ],
          "scattergeo": [
           {
            "marker": {
             "colorbar": {
              "outlinewidth": 0,
              "ticks": ""
             }
            },
            "type": "scattergeo"
           }
          ],
          "scattergl": [
           {
            "marker": {
             "colorbar": {
              "outlinewidth": 0,
              "ticks": ""
             }
            },
            "type": "scattergl"
           }
          ],
          "scattermapbox": [
           {
            "marker": {
             "colorbar": {
              "outlinewidth": 0,
              "ticks": ""
             }
            },
            "type": "scattermapbox"
           }
          ],
          "scatterpolar": [
           {
            "marker": {
             "colorbar": {
              "outlinewidth": 0,
              "ticks": ""
             }
            },
            "type": "scatterpolar"
           }
          ],
          "scatterpolargl": [
           {
            "marker": {
             "colorbar": {
              "outlinewidth": 0,
              "ticks": ""
             }
            },
            "type": "scatterpolargl"
           }
          ],
          "scatterternary": [
           {
            "marker": {
             "colorbar": {
              "outlinewidth": 0,
              "ticks": ""
             }
            },
            "type": "scatterternary"
           }
          ],
          "surface": [
           {
            "colorbar": {
             "outlinewidth": 0,
             "ticks": ""
            },
            "colorscale": [
             [
              0,
              "#0d0887"
             ],
             [
              0.1111111111111111,
              "#46039f"
             ],
             [
              0.2222222222222222,
              "#7201a8"
             ],
             [
              0.3333333333333333,
              "#9c179e"
             ],
             [
              0.4444444444444444,
              "#bd3786"
             ],
             [
              0.5555555555555556,
              "#d8576b"
             ],
             [
              0.6666666666666666,
              "#ed7953"
             ],
             [
              0.7777777777777778,
              "#fb9f3a"
             ],
             [
              0.8888888888888888,
              "#fdca26"
             ],
             [
              1,
              "#f0f921"
             ]
            ],
            "type": "surface"
           }
          ],
          "table": [
           {
            "cells": {
             "fill": {
              "color": "#EBF0F8"
             },
             "line": {
              "color": "white"
             }
            },
            "header": {
             "fill": {
              "color": "#C8D4E3"
             },
             "line": {
              "color": "white"
             }
            },
            "type": "table"
           }
          ]
         },
         "layout": {
          "annotationdefaults": {
           "arrowcolor": "#2a3f5f",
           "arrowhead": 0,
           "arrowwidth": 1
          },
          "autotypenumbers": "strict",
          "coloraxis": {
           "colorbar": {
            "outlinewidth": 0,
            "ticks": ""
           }
          },
          "colorscale": {
           "diverging": [
            [
             0,
             "#8e0152"
            ],
            [
             0.1,
             "#c51b7d"
            ],
            [
             0.2,
             "#de77ae"
            ],
            [
             0.3,
             "#f1b6da"
            ],
            [
             0.4,
             "#fde0ef"
            ],
            [
             0.5,
             "#f7f7f7"
            ],
            [
             0.6,
             "#e6f5d0"
            ],
            [
             0.7,
             "#b8e186"
            ],
            [
             0.8,
             "#7fbc41"
            ],
            [
             0.9,
             "#4d9221"
            ],
            [
             1,
             "#276419"
            ]
           ],
           "sequential": [
            [
             0,
             "#0d0887"
            ],
            [
             0.1111111111111111,
             "#46039f"
            ],
            [
             0.2222222222222222,
             "#7201a8"
            ],
            [
             0.3333333333333333,
             "#9c179e"
            ],
            [
             0.4444444444444444,
             "#bd3786"
            ],
            [
             0.5555555555555556,
             "#d8576b"
            ],
            [
             0.6666666666666666,
             "#ed7953"
            ],
            [
             0.7777777777777778,
             "#fb9f3a"
            ],
            [
             0.8888888888888888,
             "#fdca26"
            ],
            [
             1,
             "#f0f921"
            ]
           ],
           "sequentialminus": [
            [
             0,
             "#0d0887"
            ],
            [
             0.1111111111111111,
             "#46039f"
            ],
            [
             0.2222222222222222,
             "#7201a8"
            ],
            [
             0.3333333333333333,
             "#9c179e"
            ],
            [
             0.4444444444444444,
             "#bd3786"
            ],
            [
             0.5555555555555556,
             "#d8576b"
            ],
            [
             0.6666666666666666,
             "#ed7953"
            ],
            [
             0.7777777777777778,
             "#fb9f3a"
            ],
            [
             0.8888888888888888,
             "#fdca26"
            ],
            [
             1,
             "#f0f921"
            ]
           ]
          },
          "colorway": [
           "#636efa",
           "#EF553B",
           "#00cc96",
           "#ab63fa",
           "#FFA15A",
           "#19d3f3",
           "#FF6692",
           "#B6E880",
           "#FF97FF",
           "#FECB52"
          ],
          "font": {
           "color": "#2a3f5f"
          },
          "geo": {
           "bgcolor": "white",
           "lakecolor": "white",
           "landcolor": "#E5ECF6",
           "showlakes": true,
           "showland": true,
           "subunitcolor": "white"
          },
          "hoverlabel": {
           "align": "left"
          },
          "hovermode": "closest",
          "mapbox": {
           "style": "light"
          },
          "paper_bgcolor": "white",
          "plot_bgcolor": "#E5ECF6",
          "polar": {
           "angularaxis": {
            "gridcolor": "white",
            "linecolor": "white",
            "ticks": ""
           },
           "bgcolor": "#E5ECF6",
           "radialaxis": {
            "gridcolor": "white",
            "linecolor": "white",
            "ticks": ""
           }
          },
          "scene": {
           "xaxis": {
            "backgroundcolor": "#E5ECF6",
            "gridcolor": "white",
            "gridwidth": 2,
            "linecolor": "white",
            "showbackground": true,
            "ticks": "",
            "zerolinecolor": "white"
           },
           "yaxis": {
            "backgroundcolor": "#E5ECF6",
            "gridcolor": "white",
            "gridwidth": 2,
            "linecolor": "white",
            "showbackground": true,
            "ticks": "",
            "zerolinecolor": "white"
           },
           "zaxis": {
            "backgroundcolor": "#E5ECF6",
            "gridcolor": "white",
            "gridwidth": 2,
            "linecolor": "white",
            "showbackground": true,
            "ticks": "",
            "zerolinecolor": "white"
           }
          },
          "shapedefaults": {
           "line": {
            "color": "#2a3f5f"
           }
          },
          "ternary": {
           "aaxis": {
            "gridcolor": "white",
            "linecolor": "white",
            "ticks": ""
           },
           "baxis": {
            "gridcolor": "white",
            "linecolor": "white",
            "ticks": ""
           },
           "bgcolor": "#E5ECF6",
           "caxis": {
            "gridcolor": "white",
            "linecolor": "white",
            "ticks": ""
           }
          },
          "title": {
           "x": 0.05
          },
          "xaxis": {
           "automargin": true,
           "gridcolor": "white",
           "linecolor": "white",
           "ticks": "",
           "title": {
            "standoff": 15
           },
           "zerolinecolor": "white",
           "zerolinewidth": 2
          },
          "yaxis": {
           "automargin": true,
           "gridcolor": "white",
           "linecolor": "white",
           "ticks": "",
           "title": {
            "standoff": 15
           },
           "zerolinecolor": "white",
           "zerolinewidth": 2
          }
         }
        },
        "title": {
         "text": "Births in 2030"
        },
        "xaxis": {
         "anchor": "y",
         "domain": [
          0,
          1
         ],
         "title": {
          "text": "Age Group"
         }
        },
        "yaxis": {
         "anchor": "x",
         "domain": [
          0,
          1
         ],
         "title": {
          "text": "Births"
         }
        }
       }
      }
     },
     "metadata": {},
     "output_type": "display_data"
    }
   ],
   "source": [
    "df_birth_age = spark.read.csv(path_birth, header=True)\n",
    "# df_birth_age.select('Location').distinct().collect()\n",
    "df_birth_age = df_birth_age.select('ISO3_code', 'LocTypeID', 'LocTypeName', 'Location', 'Time', 'AgeGrp', 'AgeGrpStart', 'Births')\n",
    "df_birth_age = df_birth_age.withColumn('Time', col('Time').cast('int'))\\\n",
    "                   .withColumn('AgeGrpStart', col('AgeGrpStart').cast('int'))\\\n",
    "                   .withColumn('Births', col('Births').cast('float'))\n",
    "df_birth_age = df_birth_age.orderBy('time', 'AgeGrpStart')\n",
    "\n",
    "country1 = input('Enter the country name: ').title()\n",
    "country2 = input('Enter the country name: ').title()\n",
    "year = input('Enter the year: ')\n",
    "\n",
    "df_birth_age = df_birth_age.groupBy('ISO3_code', 'LocTypeID', 'LocTypeName', 'Location', 'Time', 'AgeGrp', 'AgeGrpStart')\\\n",
    "                   .agg(round(sum('Births'), 2).alias('Births'))\\\n",
    "                   .orderBy('Time', asc=True)\n",
    "df_birth_age = df_birth_age.filter((col('Location') == country1) | (col('Location') == country2)).filter(col('Time') == year)\n",
    "df_birth_age = df_birth_age.groupBy('Time', 'AgeGrp')\\\n",
    "                           .pivot('Location')\\\n",
    "                           .agg({'Births': 'first'})\n",
    "df_birth_age.show()\n",
    "df_birth_age.printSchema()\n",
    "\n",
    "df_pandas_birth = df_birth_age.pandas_api()\n",
    "\n",
    "plot = px.bar(df_pandas_birth, x='AgeGrp', y=[country1, country2], title=f'Births in {year}',\n",
    "              labels = {'value': 'Births', 'variable': 'Country', 'AgeGrp': 'Age Group'},\n",
    "              barmode='group')\n",
    "plot.show()"
   ]
  },
  {
   "cell_type": "code",
   "execution_count": null,
   "metadata": {},
   "outputs": [],
   "source": []
  }
 ],
 "metadata": {
  "kernelspec": {
   "display_name": "DANIELO_ENV",
   "language": "python",
   "name": "python3"
  },
  "language_info": {
   "codemirror_mode": {
    "name": "ipython",
    "version": 3
   },
   "file_extension": ".py",
   "mimetype": "text/x-python",
   "name": "python",
   "nbconvert_exporter": "python",
   "pygments_lexer": "ipython3",
   "version": "3.12.3"
  }
 },
 "nbformat": 4,
 "nbformat_minor": 2
}
